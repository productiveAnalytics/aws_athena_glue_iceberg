{
 "cells": [
  {
   "cell_type": "code",
   "execution_count": 0,
   "metadata": {
    "application/vnd.databricks.v1+cell": {
     "cellMetadata": {
      "byteLimit": 2048000,
      "rowLimit": 10000
     },
     "inputWidgets": {},
     "nuid": "6c13cbfc-10b5-4d18-a37a-a185e66ec002",
     "showTitle": false,
     "title": ""
    }
   },
   "outputs": [
    {
     "output_type": "execute_result",
     "data": {
      "text/plain": [
       "[FileInfo(path='dbfs:/FileStore/tables/nyc_taxi_csv/nyc_taxi.csv', name='nyc_taxi.csv', size=17174468, modificationTime=1701221318000)]"
      ]
     },
     "execution_count": 15,
     "metadata": {},
     "output_type": "execute_result"
    }
   ],
   "source": [
    "dbutils.fs.ls('/FileStore/tables/nyc_taxi_csv')"
   ]
  },
  {
   "cell_type": "code",
   "execution_count": 0,
   "metadata": {
    "application/vnd.databricks.v1+cell": {
     "cellMetadata": {
      "byteLimit": 2048000,
      "rowLimit": 10000
     },
     "inputWidgets": {},
     "nuid": "5bd51de8-21bf-42c8-8278-e2dba68002b9",
     "showTitle": true,
     "title": "Delete the existing files"
    }
   },
   "outputs": [
    {
     "output_type": "execute_result",
     "data": {
      "text/plain": [
       "True"
      ]
     },
     "execution_count": 12,
     "metadata": {},
     "output_type": "execute_result"
    }
   ],
   "source": [
    "# dbutils.fs.rm('/FileStore/tables/nyc_taxi_csv', True)"
   ]
  },
  {
   "cell_type": "code",
   "execution_count": 0,
   "metadata": {
    "application/vnd.databricks.v1+cell": {
     "cellMetadata": {
      "byteLimit": 2048000,
      "implicitDf": true,
      "rowLimit": 10000
     },
     "inputWidgets": {},
     "nuid": "9d954c72-ace1-4b05-87fe-e847d17d7efb",
     "showTitle": false,
     "title": ""
    }
   },
   "outputs": [
    {
     "output_type": "display_data",
     "data": {
      "text/html": [
       "<style scoped>\n",
       "  .table-result-container {\n",
       "    max-height: 300px;\n",
       "    overflow: auto;\n",
       "  }\n",
       "  table, th, td {\n",
       "    border: 1px solid black;\n",
       "    border-collapse: collapse;\n",
       "  }\n",
       "  th, td {\n",
       "    padding: 5px;\n",
       "  }\n",
       "  th {\n",
       "    text-align: left;\n",
       "  }\n",
       "</style><div class='table-result-container'><table class='table-result'><thead style='background-color: white'><tr><th>database_description_item</th><th>database_description_value</th></tr></thead><tbody><tr><td>Catalog Name</td><td>spark_catalog</td></tr><tr><td>Namespace Name</td><td>default</td></tr><tr><td>Comment</td><td>Default Hive database</td></tr><tr><td>Location</td><td>dbfs:/user/hive/warehouse</td></tr><tr><td>Owner</td><td>public</td></tr></tbody></table></div>"
      ]
     },
     "metadata": {
      "application/vnd.databricks.v1+output": {
       "addedWidgets": {},
       "aggData": [],
       "aggError": "",
       "aggOverflow": false,
       "aggSchema": [],
       "aggSeriesLimitReached": false,
       "aggType": "",
       "arguments": {},
       "columnCustomDisplayInfos": {},
       "data": [
        [
         "Catalog Name",
         "spark_catalog"
        ],
        [
         "Namespace Name",
         "default"
        ],
        [
         "Comment",
         "Default Hive database"
        ],
        [
         "Location",
         "dbfs:/user/hive/warehouse"
        ],
        [
         "Owner",
         "public"
        ]
       ],
       "datasetInfos": [],
       "dbfsResultPath": null,
       "isJsonSchema": true,
       "metadata": {
        "dataframeName": "_sqldf",
        "executionCount": 3
       },
       "overflow": false,
       "plotOptions": {
        "customPlotOptions": {},
        "displayType": "table",
        "pivotAggregation": null,
        "pivotColumns": null,
        "xColumns": null,
        "yColumns": null
       },
       "removedWidgets": [],
       "schema": [
        {
         "metadata": "{\"comment\":\"name of the namespace info\"}",
         "name": "database_description_item",
         "type": "\"string\""
        },
        {
         "metadata": "{\"comment\":\"value of the namespace info\"}",
         "name": "database_description_value",
         "type": "\"string\""
        }
       ],
       "type": "table"
      }
     },
     "output_type": "display_data"
    }
   ],
   "source": [
    "%sql\n",
    "describe schema default"
   ]
  },
  {
   "cell_type": "code",
   "execution_count": 0,
   "metadata": {
    "application/vnd.databricks.v1+cell": {
     "cellMetadata": {
      "byteLimit": 2048000,
      "implicitDf": true,
      "rowLimit": 10000
     },
     "inputWidgets": {},
     "nuid": "fd7e0923-3f67-4837-8f7d-0f2e4461328b",
     "showTitle": false,
     "title": ""
    }
   },
   "outputs": [
    {
     "output_type": "display_data",
     "data": {
      "text/html": [
       "<style scoped>\n",
       "  .table-result-container {\n",
       "    max-height: 300px;\n",
       "    overflow: auto;\n",
       "  }\n",
       "  table, th, td {\n",
       "    border: 1px solid black;\n",
       "    border-collapse: collapse;\n",
       "  }\n",
       "  th, td {\n",
       "    padding: 5px;\n",
       "  }\n",
       "  th {\n",
       "    text-align: left;\n",
       "  }\n",
       "</style><div class='table-result-container'><table class='table-result'><thead style='background-color: white'><tr><th>database_description_item</th><th>database_description_value</th></tr></thead><tbody><tr><td>Catalog Name</td><td>spark_catalog</td></tr><tr><td>Namespace Name</td><td>dlt_loan_demo_gbell</td></tr><tr><td>Comment</td><td></td></tr><tr><td>Location</td><td>dbfs:/user/hive/warehouse/dlt_loan_demo_gbell.db</td></tr><tr><td>Owner</td><td>root</td></tr></tbody></table></div>"
      ]
     },
     "metadata": {
      "application/vnd.databricks.v1+output": {
       "addedWidgets": {},
       "aggData": [],
       "aggError": "",
       "aggOverflow": false,
       "aggSchema": [],
       "aggSeriesLimitReached": false,
       "aggType": "",
       "arguments": {},
       "columnCustomDisplayInfos": {},
       "data": [
        [
         "Catalog Name",
         "spark_catalog"
        ],
        [
         "Namespace Name",
         "dlt_loan_demo_gbell"
        ],
        [
         "Comment",
         ""
        ],
        [
         "Location",
         "dbfs:/user/hive/warehouse/dlt_loan_demo_gbell.db"
        ],
        [
         "Owner",
         "root"
        ]
       ],
       "datasetInfos": [],
       "dbfsResultPath": null,
       "isJsonSchema": true,
       "metadata": {
        "dataframeName": "_sqldf",
        "executionCount": 4
       },
       "overflow": false,
       "plotOptions": {
        "customPlotOptions": {},
        "displayType": "table",
        "pivotAggregation": null,
        "pivotColumns": null,
        "xColumns": null,
        "yColumns": null
       },
       "removedWidgets": [],
       "schema": [
        {
         "metadata": "{\"comment\":\"name of the namespace info\"}",
         "name": "database_description_item",
         "type": "\"string\""
        },
        {
         "metadata": "{\"comment\":\"value of the namespace info\"}",
         "name": "database_description_value",
         "type": "\"string\""
        }
       ],
       "type": "table"
      }
     },
     "output_type": "display_data"
    }
   ],
   "source": [
    "%sql\n",
    "describe schema dlt_loan_demo_gbell"
   ]
  },
  {
   "cell_type": "code",
   "execution_count": 0,
   "metadata": {
    "application/vnd.databricks.v1+cell": {
     "cellMetadata": {
      "byteLimit": 2048000,
      "implicitDf": true,
      "rowLimit": 10000
     },
     "inputWidgets": {},
     "nuid": "f0091207-abb6-4aa6-b5c7-6e8182844ca5",
     "showTitle": false,
     "title": ""
    }
   },
   "outputs": [
    {
     "output_type": "display_data",
     "data": {
      "text/html": [
       "<style scoped>\n",
       "  .table-result-container {\n",
       "    max-height: 300px;\n",
       "    overflow: auto;\n",
       "  }\n",
       "  table, th, td {\n",
       "    border: 1px solid black;\n",
       "    border-collapse: collapse;\n",
       "  }\n",
       "  th, td {\n",
       "    padding: 5px;\n",
       "  }\n",
       "  th {\n",
       "    text-align: left;\n",
       "  }\n",
       "</style><div class='table-result-container'><table class='table-result'><thead style='background-color: white'><tr></tr></thead><tbody></tbody></table></div>"
      ]
     },
     "metadata": {
      "application/vnd.databricks.v1+output": {
       "addedWidgets": {},
       "aggData": [],
       "aggError": "",
       "aggOverflow": false,
       "aggSchema": [],
       "aggSeriesLimitReached": false,
       "aggType": "",
       "arguments": {},
       "columnCustomDisplayInfos": {},
       "data": [],
       "datasetInfos": [],
       "dbfsResultPath": null,
       "isJsonSchema": true,
       "metadata": {
        "dataframeName": null
       },
       "overflow": false,
       "plotOptions": {
        "customPlotOptions": {},
        "displayType": "table",
        "pivotAggregation": null,
        "pivotColumns": null,
        "xColumns": null,
        "yColumns": null
       },
       "removedWidgets": [],
       "schema": [],
       "type": "table"
      }
     },
     "output_type": "display_data"
    }
   ],
   "source": [
    "%sql\n",
    "CREATE SCHEMA IF NOT EXISTS dbt_glue_db \n",
    "    COMMENT 'This is schema/database for DBT-Glue' \n",
    "    LOCATION 'dbfs:/user/hive/warehouse/dbt_glue.db'\n",
    "    WITH DBPROPERTIES (Author='lchawathe', Usage='Dev/Test');"
   ]
  },
  {
   "cell_type": "code",
   "execution_count": 0,
   "metadata": {
    "application/vnd.databricks.v1+cell": {
     "cellMetadata": {
      "byteLimit": 2048000,
      "implicitDf": true,
      "rowLimit": 10000
     },
     "inputWidgets": {},
     "nuid": "5a9d1eb7-7268-47a0-97af-62a9b2f51307",
     "showTitle": false,
     "title": ""
    }
   },
   "outputs": [
    {
     "output_type": "display_data",
     "data": {
      "text/html": [
       "<style scoped>\n",
       "  .table-result-container {\n",
       "    max-height: 300px;\n",
       "    overflow: auto;\n",
       "  }\n",
       "  table, th, td {\n",
       "    border: 1px solid black;\n",
       "    border-collapse: collapse;\n",
       "  }\n",
       "  th, td {\n",
       "    padding: 5px;\n",
       "  }\n",
       "  th {\n",
       "    text-align: left;\n",
       "  }\n",
       "</style><div class='table-result-container'><table class='table-result'><thead style='background-color: white'><tr><th>database_description_item</th><th>database_description_value</th></tr></thead><tbody><tr><td>Catalog Name</td><td>spark_catalog</td></tr><tr><td>Namespace Name</td><td>dbt_glue_db</td></tr><tr><td>Comment</td><td>This is schema/database for DBT-Glue</td></tr><tr><td>Location</td><td>dbfs:/user/hive/warehouse/dbt_glue.db</td></tr><tr><td>Owner</td><td>root</td></tr></tbody></table></div>"
      ]
     },
     "metadata": {
      "application/vnd.databricks.v1+output": {
       "addedWidgets": {},
       "aggData": [],
       "aggError": "",
       "aggOverflow": false,
       "aggSchema": [],
       "aggSeriesLimitReached": false,
       "aggType": "",
       "arguments": {},
       "columnCustomDisplayInfos": {},
       "data": [
        [
         "Catalog Name",
         "spark_catalog"
        ],
        [
         "Namespace Name",
         "dbt_glue_db"
        ],
        [
         "Comment",
         "This is schema/database for DBT-Glue"
        ],
        [
         "Location",
         "dbfs:/user/hive/warehouse/dbt_glue.db"
        ],
        [
         "Owner",
         "root"
        ]
       ],
       "datasetInfos": [],
       "dbfsResultPath": null,
       "isJsonSchema": true,
       "metadata": {
        "dataframeName": "_sqldf",
        "executionCount": 5
       },
       "overflow": false,
       "plotOptions": {
        "customPlotOptions": {},
        "displayType": "table",
        "pivotAggregation": null,
        "pivotColumns": null,
        "xColumns": null,
        "yColumns": null
       },
       "removedWidgets": [],
       "schema": [
        {
         "metadata": "{\"comment\":\"name of the namespace info\"}",
         "name": "database_description_item",
         "type": "\"string\""
        },
        {
         "metadata": "{\"comment\":\"value of the namespace info\"}",
         "name": "database_description_value",
         "type": "\"string\""
        }
       ],
       "type": "table"
      }
     },
     "output_type": "display_data"
    }
   ],
   "source": [
    "%sql\n",
    "describe schema dbt_glue_db"
   ]
  },
  {
   "cell_type": "code",
   "execution_count": 0,
   "metadata": {
    "application/vnd.databricks.v1+cell": {
     "cellMetadata": {
      "byteLimit": 2048000,
      "implicitDf": true,
      "rowLimit": 10000
     },
     "inputWidgets": {},
     "nuid": "ebb819b3-7d06-4f1f-9212-bf722d5147d3",
     "showTitle": false,
     "title": ""
    }
   },
   "outputs": [
    {
     "output_type": "display_data",
     "data": {
      "text/html": [
       "<style scoped>\n",
       "  .table-result-container {\n",
       "    max-height: 300px;\n",
       "    overflow: auto;\n",
       "  }\n",
       "  table, th, td {\n",
       "    border: 1px solid black;\n",
       "    border-collapse: collapse;\n",
       "  }\n",
       "  th, td {\n",
       "    padding: 5px;\n",
       "  }\n",
       "  th {\n",
       "    text-align: left;\n",
       "  }\n",
       "</style><div class='table-result-container'><table class='table-result'><thead style='background-color: white'><tr><th>vendorid</th><th>tpep_pickup_datetime</th><th>tpep_dropoff_datetime</th><th>passenger_count</th><th>trip_distance</th><th>ratecodeid</th><th>store_and_fwd_flag</th><th>pulocationid</th><th>dolocationid</th><th>payment_type</th><th>fare_amount</th><th>extra</th><th>mta_tax</th><th>tip_amount</th><th>tolls_amount</th><th>improvement_surcharge</th><th>total_amount</th><th>congestion_surcharge</th><th>airport_fee</th></tr></thead><tbody><tr><td>1</td><td>2022-01-01T00:35:40Z</td><td>2022-01-01T00:53:29Z</td><td>2.0</td><td>3.8</td><td>1.0</td><td>N</td><td>142</td><td>236</td><td>1</td><td>14.5</td><td>3.0</td><td>0.5</td><td>3.65</td><td>0.0</td><td>0.3</td><td>21.95</td><td>2.5</td><td>0.0</td></tr><tr><td>2</td><td>2022-01-01T00:58:06Z</td><td>2022-01-01T01:05:45Z</td><td>1.0</td><td>1.58</td><td>1.0</td><td>N</td><td>239</td><td>151</td><td>2</td><td>8.0</td><td>0.5</td><td>0.5</td><td>0.0</td><td>0.0</td><td>0.3</td><td>11.8</td><td>2.5</td><td>0.0</td></tr><tr><td>1</td><td>2022-01-01T00:59:06Z</td><td>2022-01-01T01:12:57Z</td><td>2.0</td><td>3.8</td><td>1.0</td><td>Y</td><td>233</td><td>238</td><td>2</td><td>13.5</td><td>3.0</td><td>0.5</td><td>0.0</td><td>0.0</td><td>0.3</td><td>17.3</td><td>2.5</td><td>0.0</td></tr><tr><td>2</td><td>2022-01-01T00:55:13Z</td><td>2022-01-01T01:04:56Z</td><td>4.0</td><td>2.07</td><td>1.0</td><td>N</td><td>90</td><td>45</td><td>2</td><td>9.0</td><td>0.5</td><td>0.5</td><td>0.0</td><td>0.0</td><td>0.3</td><td>12.8</td><td>2.5</td><td>0.0</td></tr><tr><td>2</td><td>2022-01-01T00:24:13Z</td><td>2022-01-01T00:38:50Z</td><td>1.0</td><td>2.73</td><td>1.0</td><td>N</td><td>211</td><td>170</td><td>2</td><td>12.0</td><td>0.5</td><td>0.5</td><td>0.0</td><td>0.0</td><td>0.3</td><td>15.8</td><td>2.5</td><td>0.0</td></tr></tbody></table></div>"
      ]
     },
     "metadata": {
      "application/vnd.databricks.v1+output": {
       "addedWidgets": {},
       "aggData": [],
       "aggError": "",
       "aggOverflow": false,
       "aggSchema": [],
       "aggSeriesLimitReached": false,
       "aggType": "",
       "arguments": {},
       "columnCustomDisplayInfos": {},
       "data": [
        [
         1,
         "2022-01-01T00:35:40Z",
         "2022-01-01T00:53:29Z",
         2.0,
         3.8,
         1.0,
         "N",
         142,
         236,
         1,
         14.5,
         3.0,
         0.5,
         3.65,
         0.0,
         0.3,
         21.95,
         2.5,
         0.0
        ],
        [
         2,
         "2022-01-01T00:58:06Z",
         "2022-01-01T01:05:45Z",
         1.0,
         1.58,
         1.0,
         "N",
         239,
         151,
         2,
         8.0,
         0.5,
         0.5,
         0.0,
         0.0,
         0.3,
         11.8,
         2.5,
         0.0
        ],
        [
         1,
         "2022-01-01T00:59:06Z",
         "2022-01-01T01:12:57Z",
         2.0,
         3.8,
         1.0,
         "Y",
         233,
         238,
         2,
         13.5,
         3.0,
         0.5,
         0.0,
         0.0,
         0.3,
         17.3,
         2.5,
         0.0
        ],
        [
         2,
         "2022-01-01T00:55:13Z",
         "2022-01-01T01:04:56Z",
         4.0,
         2.07,
         1.0,
         "N",
         90,
         45,
         2,
         9.0,
         0.5,
         0.5,
         0.0,
         0.0,
         0.3,
         12.8,
         2.5,
         0.0
        ],
        [
         2,
         "2022-01-01T00:24:13Z",
         "2022-01-01T00:38:50Z",
         1.0,
         2.73,
         1.0,
         "N",
         211,
         170,
         2,
         12.0,
         0.5,
         0.5,
         0.0,
         0.0,
         0.3,
         15.8,
         2.5,
         0.0
        ]
       ],
       "datasetInfos": [],
       "dbfsResultPath": null,
       "isJsonSchema": true,
       "metadata": {
        "dataframeName": "_sqldf",
        "executionCount": 14
       },
       "overflow": false,
       "plotOptions": {
        "customPlotOptions": {},
        "displayType": "table",
        "pivotAggregation": null,
        "pivotColumns": null,
        "xColumns": null,
        "yColumns": null
       },
       "removedWidgets": [],
       "schema": [
        {
         "metadata": "{}",
         "name": "vendorid",
         "type": "\"long\""
        },
        {
         "metadata": "{}",
         "name": "tpep_pickup_datetime",
         "type": "\"timestamp\""
        },
        {
         "metadata": "{}",
         "name": "tpep_dropoff_datetime",
         "type": "\"timestamp\""
        },
        {
         "metadata": "{}",
         "name": "passenger_count",
         "type": "\"double\""
        },
        {
         "metadata": "{}",
         "name": "trip_distance",
         "type": "\"double\""
        },
        {
         "metadata": "{}",
         "name": "ratecodeid",
         "type": "\"double\""
        },
        {
         "metadata": "{}",
         "name": "store_and_fwd_flag",
         "type": "\"string\""
        },
        {
         "metadata": "{}",
         "name": "pulocationid",
         "type": "\"long\""
        },
        {
         "metadata": "{}",
         "name": "dolocationid",
         "type": "\"long\""
        },
        {
         "metadata": "{}",
         "name": "payment_type",
         "type": "\"long\""
        },
        {
         "metadata": "{}",
         "name": "fare_amount",
         "type": "\"double\""
        },
        {
         "metadata": "{}",
         "name": "extra",
         "type": "\"double\""
        },
        {
         "metadata": "{}",
         "name": "mta_tax",
         "type": "\"double\""
        },
        {
         "metadata": "{}",
         "name": "tip_amount",
         "type": "\"double\""
        },
        {
         "metadata": "{}",
         "name": "tolls_amount",
         "type": "\"double\""
        },
        {
         "metadata": "{}",
         "name": "improvement_surcharge",
         "type": "\"double\""
        },
        {
         "metadata": "{}",
         "name": "total_amount",
         "type": "\"double\""
        },
        {
         "metadata": "{}",
         "name": "congestion_surcharge",
         "type": "\"double\""
        },
        {
         "metadata": "{}",
         "name": "airport_fee",
         "type": "\"double\""
        }
       ],
       "type": "table"
      }
     },
     "output_type": "display_data"
    }
   ],
   "source": [
    "%sql\n",
    "select * from dbt_glue_db.nyc_taxi_csv limit 5;"
   ]
  },
  {
   "cell_type": "code",
   "execution_count": 0,
   "metadata": {
    "application/vnd.databricks.v1+cell": {
     "cellMetadata": {
      "byteLimit": 2048000,
      "rowLimit": 10000
     },
     "inputWidgets": {},
     "nuid": "2544e2ec-54b8-4b9e-b172-fc7c6b71af40",
     "showTitle": false,
     "title": ""
    }
   },
   "outputs": [],
   "source": [
    "csv_s3_path = 's3://rvo-prevention-coaching-app-stage-us-east-1/testing/dbt-glue-iceberg/csv/nyc_taxi.csv'"
   ]
  },
  {
   "cell_type": "code",
   "execution_count": 0,
   "metadata": {
    "application/vnd.databricks.v1+cell": {
     "cellMetadata": {
      "byteLimit": 2048000,
      "rowLimit": 10000
     },
     "inputWidgets": {},
     "nuid": "9d878e74-94eb-45fb-a437-b18d016f97f2",
     "showTitle": true,
     "title": "Copy the file from DBFS to S3"
    }
   },
   "outputs": [
    {
     "output_type": "execute_result",
     "data": {
      "text/plain": [
       "True"
      ]
     },
     "execution_count": 16,
     "metadata": {},
     "output_type": "execute_result"
    }
   ],
   "source": [
    "dbutils.fs.cp('dbfs:/FileStore/tables/nyc_taxi_csv/nyc_taxi.csv', csv_s3_path)"
   ]
  },
  {
   "cell_type": "code",
   "execution_count": 0,
   "metadata": {
    "application/vnd.databricks.v1+cell": {
     "cellMetadata": {
      "byteLimit": 2048000,
      "rowLimit": 10000
     },
     "inputWidgets": {},
     "nuid": "5e619ecd-3d7a-4289-9c1f-ee1b3d75b37b",
     "showTitle": true,
     "title": "Verify file on S3"
    }
   },
   "outputs": [
    {
     "output_type": "execute_result",
     "data": {
      "text/plain": [
       "[FileInfo(path='s3://rvo-prevention-coaching-app-stage-us-east-1/testing/dbt-glue-iceberg/csv/nyc_taxi.csv', name='nyc_taxi.csv', size=17174468, modificationTime=1701222130000)]"
      ]
     },
     "execution_count": 21,
     "metadata": {},
     "output_type": "execute_result"
    }
   ],
   "source": [
    "dbutils.fs.ls(csv_s3_path)"
   ]
  },
  {
   "cell_type": "code",
   "execution_count": 0,
   "metadata": {
    "application/vnd.databricks.v1+cell": {
     "cellMetadata": {
      "byteLimit": 2048000,
      "rowLimit": 10000
     },
     "inputWidgets": {},
     "nuid": "df1c76da-03e1-4555-8867-22f91d581ec8",
     "showTitle": true,
     "title": "Create folder to store AWS Athena results"
    }
   },
   "outputs": [
    {
     "output_type": "execute_result",
     "data": {
      "text/plain": [
       "True"
      ]
     },
     "execution_count": 2,
     "metadata": {},
     "output_type": "execute_result"
    }
   ],
   "source": [
    "athena_results_s3_path = 's3://rvo-prevention-coaching-app-stage-us-east-1/testing/athena_results/'\n",
    "dbutils.fs.mkdirs(athena_results_s3_path)"
   ]
  },
  {
   "cell_type": "code",
   "execution_count": 0,
   "metadata": {
    "application/vnd.databricks.v1+cell": {
     "cellMetadata": {
      "byteLimit": 2048000,
      "rowLimit": 10000
     },
     "inputWidgets": {},
     "nuid": "afc89092-90c6-4d04-8138-feaf53c13a3a",
     "showTitle": true,
     "title": "Confirm s3 folder for Athena results"
    }
   },
   "outputs": [
    {
     "output_type": "execute_result",
     "data": {
      "text/plain": [
       "[]"
      ]
     },
     "execution_count": 3,
     "metadata": {},
     "output_type": "execute_result"
    }
   ],
   "source": [
    "dbutils.fs.ls(athena_results_s3_path)"
   ]
  },
  {
   "cell_type": "code",
   "execution_count": 0,
   "metadata": {
    "application/vnd.databricks.v1+cell": {
     "cellMetadata": {
      "byteLimit": 2048000,
      "implicitDf": true,
      "rowLimit": 10000
     },
     "inputWidgets": {},
     "nuid": "4cbea248-d8a6-4140-ac69-61abb5406732",
     "showTitle": true,
     "title": "Create External table (with underlying CSV data from S3)"
    }
   },
   "outputs": [
    {
     "output_type": "display_data",
     "data": {
      "text/html": [
       "<style scoped>\n",
       "  .table-result-container {\n",
       "    max-height: 300px;\n",
       "    overflow: auto;\n",
       "  }\n",
       "  table, th, td {\n",
       "    border: 1px solid black;\n",
       "    border-collapse: collapse;\n",
       "  }\n",
       "  th, td {\n",
       "    padding: 5px;\n",
       "  }\n",
       "  th {\n",
       "    text-align: left;\n",
       "  }\n",
       "</style><div class='table-result-container'><table class='table-result'><thead style='background-color: white'><tr></tr></thead><tbody></tbody></table></div>"
      ]
     },
     "metadata": {
      "application/vnd.databricks.v1+output": {
       "addedWidgets": {},
       "aggData": [],
       "aggError": "",
       "aggOverflow": false,
       "aggSchema": [],
       "aggSeriesLimitReached": false,
       "aggType": "",
       "arguments": {},
       "columnCustomDisplayInfos": {},
       "data": [],
       "datasetInfos": [],
       "dbfsResultPath": null,
       "isJsonSchema": true,
       "metadata": {
        "dataframeName": null
       },
       "overflow": false,
       "plotOptions": {
        "customPlotOptions": {},
        "displayType": "table",
        "pivotAggregation": null,
        "pivotColumns": null,
        "xColumns": null,
        "yColumns": null
       },
       "removedWidgets": [],
       "schema": [],
       "type": "table"
      }
     },
     "output_type": "display_data"
    }
   ],
   "source": [
    "%sql\n",
    "CREATE EXTERNAL TABLE IF NOT EXISTS\n",
    "  dbt_glue_db.nyc_taxi_csv_on_s3\n",
    "  (\n",
    "        vendorid bigint,\n",
    "        tpep_pickup_datetime timestamp,\n",
    "        tpep_dropoff_datetime timestamp,\n",
    "        passenger_count double,\n",
    "        trip_distance double,\n",
    "        ratecodeid double,\n",
    "        store_and_fwd_flag string,\n",
    "        pulocationid bigint,\n",
    "        dolocationid bigint,\n",
    "        payment_type bigint,\n",
    "        fare_amount double,\n",
    "        extra double,\n",
    "        mta_tax double,\n",
    "        tip_amount double,\n",
    "        tolls_amount double,\n",
    "        improvement_surcharge double,\n",
    "        total_amount double,\n",
    "        congestion_surcharge double,\n",
    "        airport_fee double\n",
    "  )\n",
    "  ROW FORMAT DELIMITED\n",
    "  FIELDS TERMINATED BY ','\n",
    "  STORED AS TEXTFILE\n",
    "  LOCATION 's3://rvo-prevention-coaching-app-stage-us-east-1/testing/dbt-glue-iceberg/csv/';"
   ]
  },
  {
   "cell_type": "code",
   "execution_count": 0,
   "metadata": {
    "application/vnd.databricks.v1+cell": {
     "cellMetadata": {
      "byteLimit": 2048000,
      "implicitDf": true,
      "rowLimit": 10000
     },
     "inputWidgets": {},
     "nuid": "d985efd5-0752-418a-8847-759ad0b1c249",
     "showTitle": false,
     "title": ""
    }
   },
   "outputs": [
    {
     "output_type": "display_data",
     "data": {
      "text/html": [
       "<style scoped>\n",
       "  .table-result-container {\n",
       "    max-height: 300px;\n",
       "    overflow: auto;\n",
       "  }\n",
       "  table, th, td {\n",
       "    border: 1px solid black;\n",
       "    border-collapse: collapse;\n",
       "  }\n",
       "  th, td {\n",
       "    padding: 5px;\n",
       "  }\n",
       "  th {\n",
       "    text-align: left;\n",
       "  }\n",
       "</style><div class='table-result-container'><table class='table-result'><thead style='background-color: white'><tr><th>vendorid</th><th>tpep_pickup_datetime</th><th>tpep_dropoff_datetime</th><th>passenger_count</th><th>trip_distance</th><th>ratecodeid</th><th>store_and_fwd_flag</th><th>pulocationid</th><th>dolocationid</th><th>payment_type</th><th>fare_amount</th><th>extra</th><th>mta_tax</th><th>tip_amount</th><th>tolls_amount</th><th>improvement_surcharge</th><th>total_amount</th><th>congestion_surcharge</th><th>airport_fee</th></tr></thead><tbody><tr><td>1</td><td>2022-01-01T00:35:40Z</td><td>2022-01-01T00:53:29Z</td><td>2.0</td><td>3.8</td><td>1.0</td><td>N</td><td>142</td><td>236</td><td>1</td><td>14.5</td><td>3.0</td><td>0.5</td><td>3.65</td><td>0.0</td><td>0.3</td><td>21.95</td><td>2.5</td><td>0.0</td></tr><tr><td>2</td><td>2022-01-01T00:58:06Z</td><td>2022-01-01T01:05:45Z</td><td>1.0</td><td>1.58</td><td>1.0</td><td>N</td><td>239</td><td>151</td><td>2</td><td>8.0</td><td>0.5</td><td>0.5</td><td>0.0</td><td>0.0</td><td>0.3</td><td>11.8</td><td>2.5</td><td>0.0</td></tr><tr><td>1</td><td>2022-01-01T00:59:06Z</td><td>2022-01-01T01:12:57Z</td><td>2.0</td><td>3.8</td><td>1.0</td><td>Y</td><td>233</td><td>238</td><td>2</td><td>13.5</td><td>3.0</td><td>0.5</td><td>0.0</td><td>0.0</td><td>0.3</td><td>17.3</td><td>2.5</td><td>0.0</td></tr><tr><td>2</td><td>2022-01-01T00:55:13Z</td><td>2022-01-01T01:04:56Z</td><td>4.0</td><td>2.07</td><td>1.0</td><td>N</td><td>90</td><td>45</td><td>2</td><td>9.0</td><td>0.5</td><td>0.5</td><td>0.0</td><td>0.0</td><td>0.3</td><td>12.8</td><td>2.5</td><td>0.0</td></tr><tr><td>2</td><td>2022-01-01T00:24:13Z</td><td>2022-01-01T00:38:50Z</td><td>1.0</td><td>2.73</td><td>1.0</td><td>N</td><td>211</td><td>170</td><td>2</td><td>12.0</td><td>0.5</td><td>0.5</td><td>0.0</td><td>0.0</td><td>0.3</td><td>15.8</td><td>2.5</td><td>0.0</td></tr></tbody></table></div>"
      ]
     },
     "metadata": {
      "application/vnd.databricks.v1+output": {
       "addedWidgets": {},
       "aggData": [],
       "aggError": "",
       "aggOverflow": false,
       "aggSchema": [],
       "aggSeriesLimitReached": false,
       "aggType": "",
       "arguments": {},
       "columnCustomDisplayInfos": {},
       "data": [
        [
         1,
         "2022-01-01T00:35:40Z",
         "2022-01-01T00:53:29Z",
         2.0,
         3.8,
         1.0,
         "N",
         142,
         236,
         1,
         14.5,
         3.0,
         0.5,
         3.65,
         0.0,
         0.3,
         21.95,
         2.5,
         0.0
        ],
        [
         2,
         "2022-01-01T00:58:06Z",
         "2022-01-01T01:05:45Z",
         1.0,
         1.58,
         1.0,
         "N",
         239,
         151,
         2,
         8.0,
         0.5,
         0.5,
         0.0,
         0.0,
         0.3,
         11.8,
         2.5,
         0.0
        ],
        [
         1,
         "2022-01-01T00:59:06Z",
         "2022-01-01T01:12:57Z",
         2.0,
         3.8,
         1.0,
         "Y",
         233,
         238,
         2,
         13.5,
         3.0,
         0.5,
         0.0,
         0.0,
         0.3,
         17.3,
         2.5,
         0.0
        ],
        [
         2,
         "2022-01-01T00:55:13Z",
         "2022-01-01T01:04:56Z",
         4.0,
         2.07,
         1.0,
         "N",
         90,
         45,
         2,
         9.0,
         0.5,
         0.5,
         0.0,
         0.0,
         0.3,
         12.8,
         2.5,
         0.0
        ],
        [
         2,
         "2022-01-01T00:24:13Z",
         "2022-01-01T00:38:50Z",
         1.0,
         2.73,
         1.0,
         "N",
         211,
         170,
         2,
         12.0,
         0.5,
         0.5,
         0.0,
         0.0,
         0.3,
         15.8,
         2.5,
         0.0
        ]
       ],
       "datasetInfos": [],
       "dbfsResultPath": null,
       "isJsonSchema": true,
       "metadata": {
        "dataframeName": "_sqldf",
        "executionCount": 20
       },
       "overflow": false,
       "plotOptions": {
        "customPlotOptions": {},
        "displayType": "table",
        "pivotAggregation": null,
        "pivotColumns": null,
        "xColumns": null,
        "yColumns": null
       },
       "removedWidgets": [],
       "schema": [
        {
         "metadata": "{}",
         "name": "vendorid",
         "type": "\"long\""
        },
        {
         "metadata": "{}",
         "name": "tpep_pickup_datetime",
         "type": "\"timestamp\""
        },
        {
         "metadata": "{}",
         "name": "tpep_dropoff_datetime",
         "type": "\"timestamp\""
        },
        {
         "metadata": "{}",
         "name": "passenger_count",
         "type": "\"double\""
        },
        {
         "metadata": "{}",
         "name": "trip_distance",
         "type": "\"double\""
        },
        {
         "metadata": "{}",
         "name": "ratecodeid",
         "type": "\"double\""
        },
        {
         "metadata": "{}",
         "name": "store_and_fwd_flag",
         "type": "\"string\""
        },
        {
         "metadata": "{}",
         "name": "pulocationid",
         "type": "\"long\""
        },
        {
         "metadata": "{}",
         "name": "dolocationid",
         "type": "\"long\""
        },
        {
         "metadata": "{}",
         "name": "payment_type",
         "type": "\"long\""
        },
        {
         "metadata": "{}",
         "name": "fare_amount",
         "type": "\"double\""
        },
        {
         "metadata": "{}",
         "name": "extra",
         "type": "\"double\""
        },
        {
         "metadata": "{}",
         "name": "mta_tax",
         "type": "\"double\""
        },
        {
         "metadata": "{}",
         "name": "tip_amount",
         "type": "\"double\""
        },
        {
         "metadata": "{}",
         "name": "tolls_amount",
         "type": "\"double\""
        },
        {
         "metadata": "{}",
         "name": "improvement_surcharge",
         "type": "\"double\""
        },
        {
         "metadata": "{}",
         "name": "total_amount",
         "type": "\"double\""
        },
        {
         "metadata": "{}",
         "name": "congestion_surcharge",
         "type": "\"double\""
        },
        {
         "metadata": "{}",
         "name": "airport_fee",
         "type": "\"double\""
        }
       ],
       "type": "table"
      }
     },
     "output_type": "display_data"
    }
   ],
   "source": [
    "%sql\n",
    "select * from dbt_glue_db.nyc_taxi_csv_on_s3 limit 5;"
   ]
  },
  {
   "cell_type": "code",
   "execution_count": 0,
   "metadata": {
    "application/vnd.databricks.v1+cell": {
     "cellMetadata": {
      "byteLimit": 2048000,
      "implicitDf": true,
      "rowLimit": 10000
     },
     "inputWidgets": {},
     "nuid": "eef987ee-6d2e-4629-a14e-3a27f4df5ee4",
     "showTitle": false,
     "title": ""
    }
   },
   "outputs": [
    {
     "output_type": "display_data",
     "data": {
      "text/html": [
       "<style scoped>\n",
       "  .table-result-container {\n",
       "    max-height: 300px;\n",
       "    overflow: auto;\n",
       "  }\n",
       "  table, th, td {\n",
       "    border: 1px solid black;\n",
       "    border-collapse: collapse;\n",
       "  }\n",
       "  th, td {\n",
       "    padding: 5px;\n",
       "  }\n",
       "  th {\n",
       "    text-align: left;\n",
       "  }\n",
       "</style><div class='table-result-container'><table class='table-result'><thead style='background-color: white'><tr><th>PICKUP_DAY</th><th>PICKUP_COUNT</th></tr></thead><tbody><tr><td>1</td><td>4230</td></tr><tr><td>2</td><td>3893</td></tr><tr><td>3</td><td>4827</td></tr><tr><td>4</td><td>4973</td></tr><tr><td>5</td><td>4972</td></tr><tr><td>6</td><td>5323</td></tr><tr><td>7</td><td>4776</td></tr><tr><td>8</td><td>5544</td></tr><tr><td>9</td><td>4268</td></tr><tr><td>10</td><td>4911</td></tr><tr><td>11</td><td>5180</td></tr><tr><td>12</td><td>5353</td></tr><tr><td>13</td><td>5664</td></tr><tr><td>14</td><td>6258</td></tr><tr><td>15</td><td>5910</td></tr><tr><td>16</td><td>4852</td></tr><tr><td>17</td><td>4235</td></tr><tr><td>18</td><td>5638</td></tr><tr><td>19</td><td>5778</td></tr><tr><td>20</td><td>6054</td></tr><tr><td>21</td><td>6733</td></tr><tr><td>22</td><td>6440</td></tr><tr><td>23</td><td>5132</td></tr><tr><td>24</td><td>5233</td></tr><tr><td>25</td><td>5823</td></tr><tr><td>26</td><td>6449</td></tr><tr><td>27</td><td>6648</td></tr><tr><td>28</td><td>6395</td></tr><tr><td>29</td><td>2289</td></tr><tr><td>30</td><td>4752</td></tr><tr><td>31</td><td>5730</td></tr></tbody></table></div>"
      ]
     },
     "metadata": {
      "application/vnd.databricks.v1+output": {
       "addedWidgets": {},
       "aggData": [],
       "aggError": "",
       "aggOverflow": false,
       "aggSchema": [],
       "aggSeriesLimitReached": false,
       "aggType": "",
       "arguments": {},
       "columnCustomDisplayInfos": {},
       "data": [
        [
         1,
         4230
        ],
        [
         2,
         3893
        ],
        [
         3,
         4827
        ],
        [
         4,
         4973
        ],
        [
         5,
         4972
        ],
        [
         6,
         5323
        ],
        [
         7,
         4776
        ],
        [
         8,
         5544
        ],
        [
         9,
         4268
        ],
        [
         10,
         4911
        ],
        [
         11,
         5180
        ],
        [
         12,
         5353
        ],
        [
         13,
         5664
        ],
        [
         14,
         6258
        ],
        [
         15,
         5910
        ],
        [
         16,
         4852
        ],
        [
         17,
         4235
        ],
        [
         18,
         5638
        ],
        [
         19,
         5778
        ],
        [
         20,
         6054
        ],
        [
         21,
         6733
        ],
        [
         22,
         6440
        ],
        [
         23,
         5132
        ],
        [
         24,
         5233
        ],
        [
         25,
         5823
        ],
        [
         26,
         6449
        ],
        [
         27,
         6648
        ],
        [
         28,
         6395
        ],
        [
         29,
         2289
        ],
        [
         30,
         4752
        ],
        [
         31,
         5730
        ]
       ],
       "datasetInfos": [],
       "dbfsResultPath": null,
       "isJsonSchema": true,
       "metadata": {
        "dataframeName": "_sqldf",
        "executionCount": 1
       },
       "overflow": false,
       "plotOptions": {
        "customPlotOptions": {},
        "displayType": "table",
        "pivotAggregation": null,
        "pivotColumns": null,
        "xColumns": null,
        "yColumns": null
       },
       "removedWidgets": [],
       "schema": [
        {
         "metadata": "{}",
         "name": "PICKUP_DAY",
         "type": "\"integer\""
        },
        {
         "metadata": "{}",
         "name": "PICKUP_COUNT",
         "type": "\"long\""
        }
       ],
       "type": "table"
      }
     },
     "output_type": "display_data"
    }
   ],
   "source": [
    "%sql\n",
    "select day(tpep_pickup_datetime) as PICKUP_DAY, count(*) as PICKUP_COUNT from dbt_glue_db.nyc_taxi_csv_on_s3 group by day(tpep_pickup_datetime) order by 1;"
   ]
  },
  {
   "cell_type": "code",
   "execution_count": 0,
   "metadata": {
    "application/vnd.databricks.v1+cell": {
     "cellMetadata": {
      "byteLimit": 2048000,
      "rowLimit": 10000
     },
     "inputWidgets": {},
     "nuid": "1686fbbc-bb4f-461b-9500-86301146a8ef",
     "showTitle": false,
     "title": ""
    }
   },
   "outputs": [
    {
     "output_type": "stream",
     "name": "stdout",
     "output_type": "stream",
     "text": [
      "Cleaned Iceberg table from s3://rvo-prevention-coaching-app-stage-us-east-1/testing/dbt-glue-iceberg/nyc_taxi_iceberg/\n"
     ]
    }
   ],
   "source": [
    "iceberg_table_base_s3_path = 's3://rvo-prevention-coaching-app-stage-us-east-1/testing/dbt-glue-iceberg/nyc_taxi_iceberg/'\n",
    "dbutils.fs.rm(iceberg_table_base_s3_path, True)\n",
    "\n",
    "print(f'Cleaned Iceberg table from {iceberg_table_base_s3_path}')"
   ]
  },
  {
   "cell_type": "code",
   "execution_count": 0,
   "metadata": {
    "application/vnd.databricks.v1+cell": {
     "cellMetadata": {
      "byteLimit": 2048000,
      "implicitDf": true,
      "rowLimit": 10000
     },
     "inputWidgets": {},
     "nuid": "c0a64b03-98bb-4fb9-87f7-8bd0a8a7233f",
     "showTitle": true,
     "title": "Create Iceberg table"
    }
   },
   "outputs": [
    {
     "output_type": "display_data",
     "data": {
      "text/html": [
       "<style scoped>\n",
       "  .table-result-container {\n",
       "    max-height: 300px;\n",
       "    overflow: auto;\n",
       "  }\n",
       "  table, th, td {\n",
       "    border: 1px solid black;\n",
       "    border-collapse: collapse;\n",
       "  }\n",
       "  th, td {\n",
       "    padding: 5px;\n",
       "  }\n",
       "  th {\n",
       "    text-align: left;\n",
       "  }\n",
       "</style><div class='table-result-container'><table class='table-result'><thead style='background-color: white'><tr></tr></thead><tbody></tbody></table></div>"
      ]
     },
     "metadata": {
      "application/vnd.databricks.v1+output": {
       "addedWidgets": {},
       "aggData": [],
       "aggError": "",
       "aggOverflow": false,
       "aggSchema": [],
       "aggSeriesLimitReached": false,
       "aggType": "",
       "arguments": {},
       "columnCustomDisplayInfos": {},
       "data": [],
       "datasetInfos": [],
       "dbfsResultPath": null,
       "isJsonSchema": true,
       "metadata": {
        "dataframeName": null
       },
       "overflow": false,
       "plotOptions": {
        "customPlotOptions": {},
        "displayType": "table",
        "pivotAggregation": null,
        "pivotColumns": null,
        "xColumns": null,
        "yColumns": null
       },
       "removedWidgets": [],
       "schema": [],
       "type": "table"
      }
     },
     "output_type": "display_data"
    }
   ],
   "source": [
    "%sql\n",
    "/*\n",
    "-- Delta does not support expression in partitionby\n",
    "CREATE TABLE IF NOT EXISTS\n",
    "  dbt_glue_db.nyc_taxi_iceberg \n",
    "  (\n",
    "        vendorid bigint,\n",
    "        tpep_pickup_datetime timestamp,\n",
    "        tpep_dropoff_datetime timestamp,\n",
    "        passenger_count double,\n",
    "        trip_distance double,\n",
    "        ratecodeid double,\n",
    "        store_and_fwd_flag string,\n",
    "        pulocationid bigint,\n",
    "        dolocationid bigint,\n",
    "        payment_type bigint,\n",
    "        fare_amount double,\n",
    "        extra double,\n",
    "        mta_tax double,\n",
    "        tip_amount double,\n",
    "        tolls_amount double,\n",
    "        improvement_surcharge double,\n",
    "        total_amount double,\n",
    "        congestion_surcharge double,\n",
    "        airport_fee double\n",
    "  )\n",
    "  PARTITIONED BY (day(tpep_pickup_datetime))\n",
    "  LOCATION 's3://rvo-prevention-coaching-app-stage-us-east-1/testing/dbt-glue-iceberg/nyc_taxi_iceberg/'\n",
    "  TBLPROPERTIES ( 'table_type' ='ICEBERG'  );\n",
    "*/\n",
    "\n",
    "CREATE TABLE IF NOT EXISTS\n",
    "  dbt_glue_db.nyc_taxi_iceberg \n",
    "  (\n",
    "        vendorid bigint,\n",
    "        tpep_pickup_datetime timestamp,\n",
    "        tpep_dropoff_datetime timestamp,\n",
    "        passenger_count double,\n",
    "        trip_distance double,\n",
    "        ratecodeid double,\n",
    "        store_and_fwd_flag string,\n",
    "        pulocationid bigint,\n",
    "        dolocationid bigint,\n",
    "        payment_type bigint,\n",
    "        fare_amount double,\n",
    "        extra double,\n",
    "        mta_tax double,\n",
    "        tip_amount double,\n",
    "        tolls_amount double,\n",
    "        improvement_surcharge double,\n",
    "        total_amount double,\n",
    "        congestion_surcharge double,\n",
    "        airport_fee double\n",
    "  )\n",
    "  LOCATION 's3://rvo-prevention-coaching-app-stage-us-east-1/testing/dbt-glue-iceberg/nyc_taxi_iceberg/'\n",
    "  TBLPROPERTIES ( 'table_type' ='ICEBERG'  );"
   ]
  },
  {
   "cell_type": "code",
   "execution_count": 0,
   "metadata": {
    "application/vnd.databricks.v1+cell": {
     "cellMetadata": {
      "byteLimit": 2048000,
      "implicitDf": true,
      "rowLimit": 10000
     },
     "inputWidgets": {},
     "nuid": "588fe878-fc02-4a72-9dfa-5b90b09d5a37",
     "showTitle": false,
     "title": ""
    }
   },
   "outputs": [
    {
     "output_type": "display_data",
     "data": {
      "text/html": [
       "<style scoped>\n",
       "  .table-result-container {\n",
       "    max-height: 300px;\n",
       "    overflow: auto;\n",
       "  }\n",
       "  table, th, td {\n",
       "    border: 1px solid black;\n",
       "    border-collapse: collapse;\n",
       "  }\n",
       "  th, td {\n",
       "    padding: 5px;\n",
       "  }\n",
       "  th {\n",
       "    text-align: left;\n",
       "  }\n",
       "</style><div class='table-result-container'><table class='table-result'><thead style='background-color: white'><tr><th>num_affected_rows</th><th>num_inserted_rows</th></tr></thead><tbody><tr><td>164263</td><td>164263</td></tr></tbody></table></div>"
      ]
     },
     "metadata": {
      "application/vnd.databricks.v1+output": {
       "addedWidgets": {},
       "aggData": [],
       "aggError": "",
       "aggOverflow": false,
       "aggSchema": [],
       "aggSeriesLimitReached": false,
       "aggType": "",
       "arguments": {},
       "columnCustomDisplayInfos": {},
       "data": [
        [
         164263,
         164263
        ]
       ],
       "datasetInfos": [],
       "dbfsResultPath": null,
       "isJsonSchema": true,
       "metadata": {
        "dataframeName": "_sqldf",
        "executionCount": 6
       },
       "overflow": false,
       "plotOptions": {
        "customPlotOptions": {},
        "displayType": "table",
        "pivotAggregation": null,
        "pivotColumns": null,
        "xColumns": null,
        "yColumns": null
       },
       "removedWidgets": [],
       "schema": [
        {
         "metadata": "{}",
         "name": "num_affected_rows",
         "type": "\"long\""
        },
        {
         "metadata": "{}",
         "name": "num_inserted_rows",
         "type": "\"long\""
        }
       ],
       "type": "table"
      }
     },
     "output_type": "display_data"
    }
   ],
   "source": [
    "%sql\n",
    "INSERT INTO dbt_glue_db.nyc_taxi_iceberg\n",
    "  SELECT * FROM dbt_glue_db.nyc_taxi_csv_on_s3;"
   ]
  },
  {
   "cell_type": "code",
   "execution_count": 0,
   "metadata": {
    "application/vnd.databricks.v1+cell": {
     "cellMetadata": {
      "byteLimit": 2048000,
      "rowLimit": 10000
     },
     "inputWidgets": {},
     "nuid": "26bc48a9-1ece-4340-93b5-108132865912",
     "showTitle": true,
     "title": "Confirm loading of Iceberg table"
    }
   },
   "outputs": [
    {
     "output_type": "display_data",
     "data": {
      "text/html": [
       "<style scoped>\n",
       "  .table-result-container {\n",
       "    max-height: 300px;\n",
       "    overflow: auto;\n",
       "  }\n",
       "  table, th, td {\n",
       "    border: 1px solid black;\n",
       "    border-collapse: collapse;\n",
       "  }\n",
       "  th, td {\n",
       "    padding: 5px;\n",
       "  }\n",
       "  th {\n",
       "    text-align: left;\n",
       "  }\n",
       "</style><div class='table-result-container'><table class='table-result'><thead style='background-color: white'><tr><th>vendorid</th><th>tpep_pickup_datetime</th><th>tpep_dropoff_datetime</th><th>passenger_count</th><th>trip_distance</th><th>ratecodeid</th><th>store_and_fwd_flag</th><th>pulocationid</th><th>dolocationid</th><th>payment_type</th><th>fare_amount</th><th>extra</th><th>mta_tax</th><th>tip_amount</th><th>tolls_amount</th><th>improvement_surcharge</th><th>total_amount</th><th>congestion_surcharge</th><th>airport_fee</th></tr></thead><tbody><tr><td>1</td><td>2022-01-01T00:35:40Z</td><td>2022-01-01T00:53:29Z</td><td>2.0</td><td>3.8</td><td>1.0</td><td>N</td><td>142</td><td>236</td><td>1</td><td>14.5</td><td>3.0</td><td>0.5</td><td>3.65</td><td>0.0</td><td>0.3</td><td>21.95</td><td>2.5</td><td>0.0</td></tr><tr><td>2</td><td>2022-01-01T00:58:06Z</td><td>2022-01-01T01:05:45Z</td><td>1.0</td><td>1.58</td><td>1.0</td><td>N</td><td>239</td><td>151</td><td>2</td><td>8.0</td><td>0.5</td><td>0.5</td><td>0.0</td><td>0.0</td><td>0.3</td><td>11.8</td><td>2.5</td><td>0.0</td></tr><tr><td>1</td><td>2022-01-01T00:59:06Z</td><td>2022-01-01T01:12:57Z</td><td>2.0</td><td>3.8</td><td>1.0</td><td>Y</td><td>233</td><td>238</td><td>2</td><td>13.5</td><td>3.0</td><td>0.5</td><td>0.0</td><td>0.0</td><td>0.3</td><td>17.3</td><td>2.5</td><td>0.0</td></tr><tr><td>2</td><td>2022-01-01T00:55:13Z</td><td>2022-01-01T01:04:56Z</td><td>4.0</td><td>2.07</td><td>1.0</td><td>N</td><td>90</td><td>45</td><td>2</td><td>9.0</td><td>0.5</td><td>0.5</td><td>0.0</td><td>0.0</td><td>0.3</td><td>12.8</td><td>2.5</td><td>0.0</td></tr><tr><td>2</td><td>2022-01-01T00:24:13Z</td><td>2022-01-01T00:38:50Z</td><td>1.0</td><td>2.73</td><td>1.0</td><td>N</td><td>211</td><td>170</td><td>2</td><td>12.0</td><td>0.5</td><td>0.5</td><td>0.0</td><td>0.0</td><td>0.3</td><td>15.8</td><td>2.5</td><td>0.0</td></tr></tbody></table></div>"
      ]
     },
     "metadata": {
      "application/vnd.databricks.v1+output": {
       "addedWidgets": {},
       "aggData": [],
       "aggError": "",
       "aggOverflow": false,
       "aggSchema": [],
       "aggSeriesLimitReached": false,
       "aggType": "",
       "arguments": {},
       "columnCustomDisplayInfos": {},
       "data": [
        [
         1,
         "2022-01-01T00:35:40Z",
         "2022-01-01T00:53:29Z",
         2.0,
         3.8,
         1.0,
         "N",
         142,
         236,
         1,
         14.5,
         3.0,
         0.5,
         3.65,
         0.0,
         0.3,
         21.95,
         2.5,
         0.0
        ],
        [
         2,
         "2022-01-01T00:58:06Z",
         "2022-01-01T01:05:45Z",
         1.0,
         1.58,
         1.0,
         "N",
         239,
         151,
         2,
         8.0,
         0.5,
         0.5,
         0.0,
         0.0,
         0.3,
         11.8,
         2.5,
         0.0
        ],
        [
         1,
         "2022-01-01T00:59:06Z",
         "2022-01-01T01:12:57Z",
         2.0,
         3.8,
         1.0,
         "Y",
         233,
         238,
         2,
         13.5,
         3.0,
         0.5,
         0.0,
         0.0,
         0.3,
         17.3,
         2.5,
         0.0
        ],
        [
         2,
         "2022-01-01T00:55:13Z",
         "2022-01-01T01:04:56Z",
         4.0,
         2.07,
         1.0,
         "N",
         90,
         45,
         2,
         9.0,
         0.5,
         0.5,
         0.0,
         0.0,
         0.3,
         12.8,
         2.5,
         0.0
        ],
        [
         2,
         "2022-01-01T00:24:13Z",
         "2022-01-01T00:38:50Z",
         1.0,
         2.73,
         1.0,
         "N",
         211,
         170,
         2,
         12.0,
         0.5,
         0.5,
         0.0,
         0.0,
         0.3,
         15.8,
         2.5,
         0.0
        ]
       ],
       "datasetInfos": [],
       "dbfsResultPath": null,
       "isJsonSchema": true,
       "metadata": {},
       "overflow": false,
       "plotOptions": {
        "customPlotOptions": {},
        "displayType": "table",
        "pivotAggregation": null,
        "pivotColumns": null,
        "xColumns": null,
        "yColumns": null
       },
       "removedWidgets": [],
       "schema": [
        {
         "metadata": "{}",
         "name": "vendorid",
         "type": "\"long\""
        },
        {
         "metadata": "{}",
         "name": "tpep_pickup_datetime",
         "type": "\"timestamp\""
        },
        {
         "metadata": "{}",
         "name": "tpep_dropoff_datetime",
         "type": "\"timestamp\""
        },
        {
         "metadata": "{}",
         "name": "passenger_count",
         "type": "\"double\""
        },
        {
         "metadata": "{}",
         "name": "trip_distance",
         "type": "\"double\""
        },
        {
         "metadata": "{}",
         "name": "ratecodeid",
         "type": "\"double\""
        },
        {
         "metadata": "{}",
         "name": "store_and_fwd_flag",
         "type": "\"string\""
        },
        {
         "metadata": "{}",
         "name": "pulocationid",
         "type": "\"long\""
        },
        {
         "metadata": "{}",
         "name": "dolocationid",
         "type": "\"long\""
        },
        {
         "metadata": "{}",
         "name": "payment_type",
         "type": "\"long\""
        },
        {
         "metadata": "{}",
         "name": "fare_amount",
         "type": "\"double\""
        },
        {
         "metadata": "{}",
         "name": "extra",
         "type": "\"double\""
        },
        {
         "metadata": "{}",
         "name": "mta_tax",
         "type": "\"double\""
        },
        {
         "metadata": "{}",
         "name": "tip_amount",
         "type": "\"double\""
        },
        {
         "metadata": "{}",
         "name": "tolls_amount",
         "type": "\"double\""
        },
        {
         "metadata": "{}",
         "name": "improvement_surcharge",
         "type": "\"double\""
        },
        {
         "metadata": "{}",
         "name": "total_amount",
         "type": "\"double\""
        },
        {
         "metadata": "{}",
         "name": "congestion_surcharge",
         "type": "\"double\""
        },
        {
         "metadata": "{}",
         "name": "airport_fee",
         "type": "\"double\""
        }
       ],
       "type": "table"
      }
     },
     "output_type": "display_data"
    }
   ],
   "source": [
    "iceberg_load_df = spark.sql('select * from dbt_glue_db.nyc_taxi_iceberg')\n",
    "display(iceberg_load_df.limit(5))"
   ]
  },
  {
   "cell_type": "code",
   "execution_count": 0,
   "metadata": {
    "application/vnd.databricks.v1+cell": {
     "cellMetadata": {
      "byteLimit": 2048000,
      "implicitDf": true,
      "rowLimit": 10000
     },
     "inputWidgets": {},
     "nuid": "c37bdbc2-2e6e-47fc-b0a3-ad7018f8d7e7",
     "showTitle": false,
     "title": ""
    }
   },
   "outputs": [
    {
     "output_type": "display_data",
     "data": {
      "text/html": [
       "<style scoped>\n",
       "  .table-result-container {\n",
       "    max-height: 300px;\n",
       "    overflow: auto;\n",
       "  }\n",
       "  table, th, td {\n",
       "    border: 1px solid black;\n",
       "    border-collapse: collapse;\n",
       "  }\n",
       "  th, td {\n",
       "    padding: 5px;\n",
       "  }\n",
       "  th {\n",
       "    text-align: left;\n",
       "  }\n",
       "</style><div class='table-result-container'><table class='table-result'><thead style='background-color: white'><tr><th>vendorid</th><th>tpep_pickup_datetime</th><th>tpep_dropoff_datetime</th><th>passenger_count</th><th>trip_distance</th><th>ratecodeid</th><th>store_and_fwd_flag</th><th>pulocationid</th><th>dolocationid</th><th>payment_type</th><th>fare_amount</th><th>extra</th><th>mta_tax</th><th>tip_amount</th><th>tolls_amount</th><th>improvement_surcharge</th><th>total_amount</th><th>congestion_surcharge</th><th>airport_fee</th></tr></thead><tbody><tr><td>1</td><td>2022-01-05T00:06:25Z</td><td>2022-01-05T00:18:16Z</td><td>1.0</td><td>3.6</td><td>1.0</td><td>N</td><td>143</td><td>42</td><td>2</td><td>12.5</td><td>3.0</td><td>0.5</td><td>0.0</td><td>0.0</td><td>0.3</td><td>16.3</td><td>2.5</td><td>0.0</td></tr><tr><td>2</td><td>2022-01-05T00:53:53Z</td><td>2022-01-05T00:59:37Z</td><td>1.0</td><td>1.05</td><td>1.0</td><td>N</td><td>79</td><td>4</td><td>2</td><td>6.0</td><td>0.5</td><td>0.5</td><td>0.0</td><td>0.0</td><td>0.3</td><td>9.8</td><td>2.5</td><td>0.0</td></tr><tr><td>2</td><td>2022-01-05T00:12:44Z</td><td>2022-01-05T00:16:55Z</td><td>1.0</td><td>0.98</td><td>1.0</td><td>N</td><td>107</td><td>170</td><td>1</td><td>5.5</td><td>0.5</td><td>0.5</td><td>1.4</td><td>0.0</td><td>0.3</td><td>10.7</td><td>2.5</td><td>0.0</td></tr><tr><td>2</td><td>2022-01-05T00:08:04Z</td><td>2022-01-05T00:30:10Z</td><td>1.0</td><td>5.8</td><td>1.0</td><td>N</td><td>79</td><td>188</td><td>1</td><td>20.5</td><td>0.5</td><td>0.5</td><td>4.86</td><td>0.0</td><td>0.3</td><td>29.16</td><td>2.5</td><td>0.0</td></tr><tr><td>2</td><td>2022-01-05T00:04:33Z</td><td>2022-01-05T00:36:25Z</td><td>1.0</td><td>16.5</td><td>1.0</td><td>N</td><td>132</td><td>188</td><td>4</td><td>-46.0</td><td>-0.5</td><td>-0.5</td><td>0.0</td><td>0.0</td><td>-0.3</td><td>-48.55</td><td>0.0</td><td>-1.25</td></tr><tr><td>1</td><td>2022-01-05T00:47:35Z</td><td>2022-01-05T00:51:22Z</td><td>1.0</td><td>0.7</td><td>1.0</td><td>N</td><td>164</td><td>137</td><td>1</td><td>5.0</td><td>3.0</td><td>0.5</td><td>1.75</td><td>0.0</td><td>0.3</td><td>10.55</td><td>2.5</td><td>0.0</td></tr><tr><td>2</td><td>2022-01-05T00:23:26Z</td><td>2022-01-05T00:27:22Z</td><td>1.0</td><td>1.13</td><td>1.0</td><td>N</td><td>107</td><td>162</td><td>1</td><td>5.5</td><td>0.5</td><td>0.5</td><td>0.46</td><td>0.0</td><td>0.3</td><td>9.76</td><td>2.5</td><td>0.0</td></tr><tr><td>2</td><td>2022-01-05T00:09:48Z</td><td>2022-01-05T00:30:27Z</td><td>1.0</td><td>9.44</td><td>1.0</td><td>N</td><td>132</td><td>76</td><td>2</td><td>27.5</td><td>0.5</td><td>0.5</td><td>0.0</td><td>0.0</td><td>0.3</td><td>30.05</td><td>0.0</td><td>1.25</td></tr><tr><td>2</td><td>2022-01-05T00:18:00Z</td><td>2022-01-05T00:23:35Z</td><td>1.0</td><td>0.89</td><td>1.0</td><td>N</td><td>234</td><td>68</td><td>2</td><td>5.5</td><td>0.5</td><td>0.5</td><td>0.0</td><td>0.0</td><td>0.3</td><td>9.3</td><td>2.5</td><td>0.0</td></tr><tr><td>2</td><td>2022-01-05T00:20:20Z</td><td>2022-01-05T00:31:40Z</td><td>1.0</td><td>3.58</td><td>1.0</td><td>N</td><td>158</td><td>239</td><td>1</td><td>12.0</td><td>0.5</td><td>0.5</td><td>3.16</td><td>0.0</td><td>0.3</td><td>18.96</td><td>2.5</td><td>0.0</td></tr></tbody></table></div>"
      ]
     },
     "metadata": {
      "application/vnd.databricks.v1+output": {
       "addedWidgets": {},
       "aggData": [],
       "aggError": "",
       "aggOverflow": false,
       "aggSchema": [],
       "aggSeriesLimitReached": false,
       "aggType": "",
       "arguments": {},
       "columnCustomDisplayInfos": {},
       "data": [
        [
         1,
         "2022-01-05T00:06:25Z",
         "2022-01-05T00:18:16Z",
         1.0,
         3.6,
         1.0,
         "N",
         143,
         42,
         2,
         12.5,
         3.0,
         0.5,
         0.0,
         0.0,
         0.3,
         16.3,
         2.5,
         0.0
        ],
        [
         2,
         "2022-01-05T00:53:53Z",
         "2022-01-05T00:59:37Z",
         1.0,
         1.05,
         1.0,
         "N",
         79,
         4,
         2,
         6.0,
         0.5,
         0.5,
         0.0,
         0.0,
         0.3,
         9.8,
         2.5,
         0.0
        ],
        [
         2,
         "2022-01-05T00:12:44Z",
         "2022-01-05T00:16:55Z",
         1.0,
         0.98,
         1.0,
         "N",
         107,
         170,
         1,
         5.5,
         0.5,
         0.5,
         1.4,
         0.0,
         0.3,
         10.7,
         2.5,
         0.0
        ],
        [
         2,
         "2022-01-05T00:08:04Z",
         "2022-01-05T00:30:10Z",
         1.0,
         5.8,
         1.0,
         "N",
         79,
         188,
         1,
         20.5,
         0.5,
         0.5,
         4.86,
         0.0,
         0.3,
         29.16,
         2.5,
         0.0
        ],
        [
         2,
         "2022-01-05T00:04:33Z",
         "2022-01-05T00:36:25Z",
         1.0,
         16.5,
         1.0,
         "N",
         132,
         188,
         4,
         -46.0,
         -0.5,
         -0.5,
         0.0,
         0.0,
         -0.3,
         -48.55,
         0.0,
         -1.25
        ],
        [
         1,
         "2022-01-05T00:47:35Z",
         "2022-01-05T00:51:22Z",
         1.0,
         0.7,
         1.0,
         "N",
         164,
         137,
         1,
         5.0,
         3.0,
         0.5,
         1.75,
         0.0,
         0.3,
         10.55,
         2.5,
         0.0
        ],
        [
         2,
         "2022-01-05T00:23:26Z",
         "2022-01-05T00:27:22Z",
         1.0,
         1.13,
         1.0,
         "N",
         107,
         162,
         1,
         5.5,
         0.5,
         0.5,
         0.46,
         0.0,
         0.3,
         9.76,
         2.5,
         0.0
        ],
        [
         2,
         "2022-01-05T00:09:48Z",
         "2022-01-05T00:30:27Z",
         1.0,
         9.44,
         1.0,
         "N",
         132,
         76,
         2,
         27.5,
         0.5,
         0.5,
         0.0,
         0.0,
         0.3,
         30.05,
         0.0,
         1.25
        ],
        [
         2,
         "2022-01-05T00:18:00Z",
         "2022-01-05T00:23:35Z",
         1.0,
         0.89,
         1.0,
         "N",
         234,
         68,
         2,
         5.5,
         0.5,
         0.5,
         0.0,
         0.0,
         0.3,
         9.3,
         2.5,
         0.0
        ],
        [
         2,
         "2022-01-05T00:20:20Z",
         "2022-01-05T00:31:40Z",
         1.0,
         3.58,
         1.0,
         "N",
         158,
         239,
         1,
         12.0,
         0.5,
         0.5,
         3.16,
         0.0,
         0.3,
         18.96,
         2.5,
         0.0
        ]
       ],
       "datasetInfos": [],
       "dbfsResultPath": null,
       "isJsonSchema": true,
       "metadata": {
        "dataframeName": "_sqldf",
        "executionCount": 9
       },
       "overflow": false,
       "plotOptions": {
        "customPlotOptions": {},
        "displayType": "table",
        "pivotAggregation": null,
        "pivotColumns": null,
        "xColumns": null,
        "yColumns": null
       },
       "removedWidgets": [],
       "schema": [
        {
         "metadata": "{}",
         "name": "vendorid",
         "type": "\"long\""
        },
        {
         "metadata": "{}",
         "name": "tpep_pickup_datetime",
         "type": "\"timestamp\""
        },
        {
         "metadata": "{}",
         "name": "tpep_dropoff_datetime",
         "type": "\"timestamp\""
        },
        {
         "metadata": "{}",
         "name": "passenger_count",
         "type": "\"double\""
        },
        {
         "metadata": "{}",
         "name": "trip_distance",
         "type": "\"double\""
        },
        {
         "metadata": "{}",
         "name": "ratecodeid",
         "type": "\"double\""
        },
        {
         "metadata": "{}",
         "name": "store_and_fwd_flag",
         "type": "\"string\""
        },
        {
         "metadata": "{}",
         "name": "pulocationid",
         "type": "\"long\""
        },
        {
         "metadata": "{}",
         "name": "dolocationid",
         "type": "\"long\""
        },
        {
         "metadata": "{}",
         "name": "payment_type",
         "type": "\"long\""
        },
        {
         "metadata": "{}",
         "name": "fare_amount",
         "type": "\"double\""
        },
        {
         "metadata": "{}",
         "name": "extra",
         "type": "\"double\""
        },
        {
         "metadata": "{}",
         "name": "mta_tax",
         "type": "\"double\""
        },
        {
         "metadata": "{}",
         "name": "tip_amount",
         "type": "\"double\""
        },
        {
         "metadata": "{}",
         "name": "tolls_amount",
         "type": "\"double\""
        },
        {
         "metadata": "{}",
         "name": "improvement_surcharge",
         "type": "\"double\""
        },
        {
         "metadata": "{}",
         "name": "total_amount",
         "type": "\"double\""
        },
        {
         "metadata": "{}",
         "name": "congestion_surcharge",
         "type": "\"double\""
        },
        {
         "metadata": "{}",
         "name": "airport_fee",
         "type": "\"double\""
        }
       ],
       "type": "table"
      }
     },
     "output_type": "display_data"
    }
   ],
   "source": [
    "%sql\n",
    "SELECT * FROM dbt_glue_db.nyc_taxi_iceberg WHERE day(tpep_pickup_datetime) =  5 limit 10;"
   ]
  },
  {
   "cell_type": "code",
   "execution_count": 0,
   "metadata": {
    "application/vnd.databricks.v1+cell": {
     "cellMetadata": {
      "byteLimit": 2048000,
      "implicitDf": true,
      "rowLimit": 10000
     },
     "inputWidgets": {},
     "nuid": "695e5d2e-3731-4ee9-acef-0626ee5f85d2",
     "showTitle": false,
     "title": ""
    }
   },
   "outputs": [
    {
     "output_type": "display_data",
     "data": {
      "text/html": [
       "<style scoped>\n",
       "  .table-result-container {\n",
       "    max-height: 300px;\n",
       "    overflow: auto;\n",
       "  }\n",
       "  table, th, td {\n",
       "    border: 1px solid black;\n",
       "    border-collapse: collapse;\n",
       "  }\n",
       "  th, td {\n",
       "    padding: 5px;\n",
       "  }\n",
       "  th {\n",
       "    text-align: left;\n",
       "  }\n",
       "</style><div class='table-result-container'><table class='table-result'><thead style='background-color: white'><tr></tr></thead><tbody></tbody></table></div>"
      ]
     },
     "metadata": {
      "application/vnd.databricks.v1+output": {
       "addedWidgets": {},
       "aggData": [],
       "aggError": "",
       "aggOverflow": false,
       "aggSchema": [],
       "aggSeriesLimitReached": false,
       "aggType": "",
       "arguments": {},
       "columnCustomDisplayInfos": {},
       "data": [],
       "datasetInfos": [],
       "dbfsResultPath": null,
       "isJsonSchema": true,
       "metadata": {
        "dataframeName": null
       },
       "overflow": false,
       "plotOptions": {
        "customPlotOptions": {},
        "displayType": "table",
        "pivotAggregation": null,
        "pivotColumns": null,
        "xColumns": null,
        "yColumns": null
       },
       "removedWidgets": [],
       "schema": [],
       "type": "table"
      }
     },
     "output_type": "display_data"
    }
   ],
   "source": [
    "%sql\n",
    "-- add pickup_day column to represent day(tpep_pickup_datetime)\n",
    "CREATE TABLE IF NOT EXISTS\n",
    "  dbt_glue_db.nyc_taxi_iceberg_data_manipulation \n",
    "  (\n",
    "        vendorid bigint,\n",
    "        pickup_day INT,\n",
    "        tpep_pickup_datetime timestamp,\n",
    "        tpep_dropoff_datetime timestamp,\n",
    "        passenger_count double,\n",
    "        trip_distance double,\n",
    "        ratecodeid double,\n",
    "        store_and_fwd_flag string,\n",
    "        pulocationid bigint,\n",
    "        dolocationid bigint,\n",
    "        payment_type bigint,\n",
    "        fare_amount double,\n",
    "        extra double,\n",
    "        mta_tax double,\n",
    "        tip_amount double,\n",
    "        tolls_amount double,\n",
    "        improvement_surcharge double,\n",
    "        total_amount double,\n",
    "        congestion_surcharge double,\n",
    "        airport_fee double\n",
    "  )\n",
    "  PARTITIONED BY (pickup_day)\n",
    "  LOCATION 's3://rvo-prevention-coaching-app-stage-us-east-1/testing/dbt-glue-iceberg/nyc_taxi_iceberg_data_manipulation/'\n",
    "  TBLPROPERTIES ( 'table_type' ='ICEBERG'  );"
   ]
  },
  {
   "cell_type": "code",
   "execution_count": 0,
   "metadata": {
    "application/vnd.databricks.v1+cell": {
     "cellMetadata": {
      "byteLimit": 2048000,
      "implicitDf": true,
      "rowLimit": 10000
     },
     "inputWidgets": {},
     "nuid": "34770ea2-b52d-425e-a27d-de10b919a3f7",
     "showTitle": true,
     "title": "Insert into another Iceberg table for data manipulation"
    }
   },
   "outputs": [
    {
     "output_type": "display_data",
     "data": {
      "text/html": [
       "<style scoped>\n",
       "  .table-result-container {\n",
       "    max-height: 300px;\n",
       "    overflow: auto;\n",
       "  }\n",
       "  table, th, td {\n",
       "    border: 1px solid black;\n",
       "    border-collapse: collapse;\n",
       "  }\n",
       "  th, td {\n",
       "    padding: 5px;\n",
       "  }\n",
       "  th {\n",
       "    text-align: left;\n",
       "  }\n",
       "</style><div class='table-result-container'><table class='table-result'><thead style='background-color: white'><tr><th>num_affected_rows</th><th>num_inserted_rows</th></tr></thead><tbody><tr><td>164263</td><td>164263</td></tr></tbody></table></div>"
      ]
     },
     "metadata": {
      "application/vnd.databricks.v1+output": {
       "addedWidgets": {},
       "aggData": [],
       "aggError": "",
       "aggOverflow": false,
       "aggSchema": [],
       "aggSeriesLimitReached": false,
       "aggType": "",
       "arguments": {},
       "columnCustomDisplayInfos": {},
       "data": [
        [
         164263,
         164263
        ]
       ],
       "datasetInfos": [],
       "dbfsResultPath": null,
       "isJsonSchema": true,
       "metadata": {
        "dataframeName": "_sqldf",
        "executionCount": 10
       },
       "overflow": false,
       "plotOptions": {
        "customPlotOptions": {},
        "displayType": "table",
        "pivotAggregation": null,
        "pivotColumns": null,
        "xColumns": null,
        "yColumns": null
       },
       "removedWidgets": [],
       "schema": [
        {
         "metadata": "{}",
         "name": "num_affected_rows",
         "type": "\"long\""
        },
        {
         "metadata": "{}",
         "name": "num_inserted_rows",
         "type": "\"long\""
        }
       ],
       "type": "table"
      }
     },
     "output_type": "display_data"
    }
   ],
   "source": [
    "%sql\n",
    "INSERT INTO dbt_glue_db.nyc_taxi_iceberg_data_manipulation\n",
    "    SELECT\n",
    "        vendorid,\n",
    "        day(tpep_pickup_datetime) as pickup_day,\n",
    "        tpep_pickup_datetime,\n",
    "        tpep_dropoff_datetime,\n",
    "        passenger_count,\n",
    "        trip_distance,\n",
    "        ratecodeid,\n",
    "        store_and_fwd_flag,\n",
    "        pulocationid,\n",
    "        dolocationid,\n",
    "        payment_type,\n",
    "        fare_amount,\n",
    "        extra,\n",
    "        mta_tax,\n",
    "        tip_amount,\n",
    "        tolls_amount,\n",
    "        improvement_surcharge,\n",
    "        total_amount,\n",
    "        congestion_surcharge,\n",
    "        airport_fee\n",
    "    FROM dbt_glue_db.nyc_taxi_iceberg;"
   ]
  },
  {
   "cell_type": "code",
   "execution_count": 0,
   "metadata": {
    "application/vnd.databricks.v1+cell": {
     "cellMetadata": {
      "byteLimit": 2048000,
      "implicitDf": true,
      "rowLimit": 10000
     },
     "inputWidgets": {},
     "nuid": "0974f97a-5ae2-46f6-8767-5906054c1d92",
     "showTitle": false,
     "title": ""
    }
   },
   "outputs": [
    {
     "output_type": "display_data",
     "data": {
      "text/html": [
       "<style scoped>\n",
       "  .table-result-container {\n",
       "    max-height: 300px;\n",
       "    overflow: auto;\n",
       "  }\n",
       "  table, th, td {\n",
       "    border: 1px solid black;\n",
       "    border-collapse: collapse;\n",
       "  }\n",
       "  th, td {\n",
       "    padding: 5px;\n",
       "  }\n",
       "  th {\n",
       "    text-align: left;\n",
       "  }\n",
       "</style><div class='table-result-container'><table class='table-result'><thead style='background-color: white'><tr><th>vendorid</th><th>pickup_day</th><th>tpep_pickup_datetime</th><th>tpep_dropoff_datetime</th><th>passenger_count</th><th>trip_distance</th><th>ratecodeid</th><th>store_and_fwd_flag</th><th>pulocationid</th><th>dolocationid</th><th>payment_type</th><th>fare_amount</th><th>extra</th><th>mta_tax</th><th>tip_amount</th><th>tolls_amount</th><th>improvement_surcharge</th><th>total_amount</th><th>congestion_surcharge</th><th>airport_fee</th></tr></thead><tbody><tr><td>1</td><td>5</td><td>2022-01-05T00:06:25Z</td><td>2022-01-05T00:18:16Z</td><td>1.0</td><td>3.6</td><td>1.0</td><td>N</td><td>143</td><td>42</td><td>2</td><td>12.5</td><td>3.0</td><td>0.5</td><td>0.0</td><td>0.0</td><td>0.3</td><td>16.3</td><td>2.5</td><td>0.0</td></tr><tr><td>2</td><td>5</td><td>2022-01-05T00:53:53Z</td><td>2022-01-05T00:59:37Z</td><td>1.0</td><td>1.05</td><td>1.0</td><td>N</td><td>79</td><td>4</td><td>2</td><td>6.0</td><td>0.5</td><td>0.5</td><td>0.0</td><td>0.0</td><td>0.3</td><td>9.8</td><td>2.5</td><td>0.0</td></tr><tr><td>2</td><td>5</td><td>2022-01-05T00:12:44Z</td><td>2022-01-05T00:16:55Z</td><td>1.0</td><td>0.98</td><td>1.0</td><td>N</td><td>107</td><td>170</td><td>1</td><td>5.5</td><td>0.5</td><td>0.5</td><td>1.4</td><td>0.0</td><td>0.3</td><td>10.7</td><td>2.5</td><td>0.0</td></tr><tr><td>2</td><td>5</td><td>2022-01-05T00:08:04Z</td><td>2022-01-05T00:30:10Z</td><td>1.0</td><td>5.8</td><td>1.0</td><td>N</td><td>79</td><td>188</td><td>1</td><td>20.5</td><td>0.5</td><td>0.5</td><td>4.86</td><td>0.0</td><td>0.3</td><td>29.16</td><td>2.5</td><td>0.0</td></tr><tr><td>2</td><td>5</td><td>2022-01-05T00:04:33Z</td><td>2022-01-05T00:36:25Z</td><td>1.0</td><td>16.5</td><td>1.0</td><td>N</td><td>132</td><td>188</td><td>4</td><td>-46.0</td><td>-0.5</td><td>-0.5</td><td>0.0</td><td>0.0</td><td>-0.3</td><td>-48.55</td><td>0.0</td><td>-1.25</td></tr><tr><td>1</td><td>5</td><td>2022-01-05T00:47:35Z</td><td>2022-01-05T00:51:22Z</td><td>1.0</td><td>0.7</td><td>1.0</td><td>N</td><td>164</td><td>137</td><td>1</td><td>5.0</td><td>3.0</td><td>0.5</td><td>1.75</td><td>0.0</td><td>0.3</td><td>10.55</td><td>2.5</td><td>0.0</td></tr><tr><td>2</td><td>5</td><td>2022-01-05T00:23:26Z</td><td>2022-01-05T00:27:22Z</td><td>1.0</td><td>1.13</td><td>1.0</td><td>N</td><td>107</td><td>162</td><td>1</td><td>5.5</td><td>0.5</td><td>0.5</td><td>0.46</td><td>0.0</td><td>0.3</td><td>9.76</td><td>2.5</td><td>0.0</td></tr><tr><td>2</td><td>5</td><td>2022-01-05T00:09:48Z</td><td>2022-01-05T00:30:27Z</td><td>1.0</td><td>9.44</td><td>1.0</td><td>N</td><td>132</td><td>76</td><td>2</td><td>27.5</td><td>0.5</td><td>0.5</td><td>0.0</td><td>0.0</td><td>0.3</td><td>30.05</td><td>0.0</td><td>1.25</td></tr><tr><td>2</td><td>5</td><td>2022-01-05T00:18:00Z</td><td>2022-01-05T00:23:35Z</td><td>1.0</td><td>0.89</td><td>1.0</td><td>N</td><td>234</td><td>68</td><td>2</td><td>5.5</td><td>0.5</td><td>0.5</td><td>0.0</td><td>0.0</td><td>0.3</td><td>9.3</td><td>2.5</td><td>0.0</td></tr><tr><td>2</td><td>5</td><td>2022-01-05T00:20:20Z</td><td>2022-01-05T00:31:40Z</td><td>1.0</td><td>3.58</td><td>1.0</td><td>N</td><td>158</td><td>239</td><td>1</td><td>12.0</td><td>0.5</td><td>0.5</td><td>3.16</td><td>0.0</td><td>0.3</td><td>18.96</td><td>2.5</td><td>0.0</td></tr></tbody></table></div>"
      ]
     },
     "metadata": {
      "application/vnd.databricks.v1+output": {
       "addedWidgets": {},
       "aggData": [],
       "aggError": "",
       "aggOverflow": false,
       "aggSchema": [],
       "aggSeriesLimitReached": false,
       "aggType": "",
       "arguments": {},
       "columnCustomDisplayInfos": {},
       "data": [
        [
         1,
         5,
         "2022-01-05T00:06:25Z",
         "2022-01-05T00:18:16Z",
         1.0,
         3.6,
         1.0,
         "N",
         143,
         42,
         2,
         12.5,
         3.0,
         0.5,
         0.0,
         0.0,
         0.3,
         16.3,
         2.5,
         0.0
        ],
        [
         2,
         5,
         "2022-01-05T00:53:53Z",
         "2022-01-05T00:59:37Z",
         1.0,
         1.05,
         1.0,
         "N",
         79,
         4,
         2,
         6.0,
         0.5,
         0.5,
         0.0,
         0.0,
         0.3,
         9.8,
         2.5,
         0.0
        ],
        [
         2,
         5,
         "2022-01-05T00:12:44Z",
         "2022-01-05T00:16:55Z",
         1.0,
         0.98,
         1.0,
         "N",
         107,
         170,
         1,
         5.5,
         0.5,
         0.5,
         1.4,
         0.0,
         0.3,
         10.7,
         2.5,
         0.0
        ],
        [
         2,
         5,
         "2022-01-05T00:08:04Z",
         "2022-01-05T00:30:10Z",
         1.0,
         5.8,
         1.0,
         "N",
         79,
         188,
         1,
         20.5,
         0.5,
         0.5,
         4.86,
         0.0,
         0.3,
         29.16,
         2.5,
         0.0
        ],
        [
         2,
         5,
         "2022-01-05T00:04:33Z",
         "2022-01-05T00:36:25Z",
         1.0,
         16.5,
         1.0,
         "N",
         132,
         188,
         4,
         -46.0,
         -0.5,
         -0.5,
         0.0,
         0.0,
         -0.3,
         -48.55,
         0.0,
         -1.25
        ],
        [
         1,
         5,
         "2022-01-05T00:47:35Z",
         "2022-01-05T00:51:22Z",
         1.0,
         0.7,
         1.0,
         "N",
         164,
         137,
         1,
         5.0,
         3.0,
         0.5,
         1.75,
         0.0,
         0.3,
         10.55,
         2.5,
         0.0
        ],
        [
         2,
         5,
         "2022-01-05T00:23:26Z",
         "2022-01-05T00:27:22Z",
         1.0,
         1.13,
         1.0,
         "N",
         107,
         162,
         1,
         5.5,
         0.5,
         0.5,
         0.46,
         0.0,
         0.3,
         9.76,
         2.5,
         0.0
        ],
        [
         2,
         5,
         "2022-01-05T00:09:48Z",
         "2022-01-05T00:30:27Z",
         1.0,
         9.44,
         1.0,
         "N",
         132,
         76,
         2,
         27.5,
         0.5,
         0.5,
         0.0,
         0.0,
         0.3,
         30.05,
         0.0,
         1.25
        ],
        [
         2,
         5,
         "2022-01-05T00:18:00Z",
         "2022-01-05T00:23:35Z",
         1.0,
         0.89,
         1.0,
         "N",
         234,
         68,
         2,
         5.5,
         0.5,
         0.5,
         0.0,
         0.0,
         0.3,
         9.3,
         2.5,
         0.0
        ],
        [
         2,
         5,
         "2022-01-05T00:20:20Z",
         "2022-01-05T00:31:40Z",
         1.0,
         3.58,
         1.0,
         "N",
         158,
         239,
         1,
         12.0,
         0.5,
         0.5,
         3.16,
         0.0,
         0.3,
         18.96,
         2.5,
         0.0
        ]
       ],
       "datasetInfos": [],
       "dbfsResultPath": null,
       "isJsonSchema": true,
       "metadata": {
        "dataframeName": "_sqldf",
        "executionCount": 11
       },
       "overflow": false,
       "plotOptions": {
        "customPlotOptions": {},
        "displayType": "table",
        "pivotAggregation": null,
        "pivotColumns": null,
        "xColumns": null,
        "yColumns": null
       },
       "removedWidgets": [],
       "schema": [
        {
         "metadata": "{}",
         "name": "vendorid",
         "type": "\"long\""
        },
        {
         "metadata": "{}",
         "name": "pickup_day",
         "type": "\"integer\""
        },
        {
         "metadata": "{}",
         "name": "tpep_pickup_datetime",
         "type": "\"timestamp\""
        },
        {
         "metadata": "{}",
         "name": "tpep_dropoff_datetime",
         "type": "\"timestamp\""
        },
        {
         "metadata": "{}",
         "name": "passenger_count",
         "type": "\"double\""
        },
        {
         "metadata": "{}",
         "name": "trip_distance",
         "type": "\"double\""
        },
        {
         "metadata": "{}",
         "name": "ratecodeid",
         "type": "\"double\""
        },
        {
         "metadata": "{}",
         "name": "store_and_fwd_flag",
         "type": "\"string\""
        },
        {
         "metadata": "{}",
         "name": "pulocationid",
         "type": "\"long\""
        },
        {
         "metadata": "{}",
         "name": "dolocationid",
         "type": "\"long\""
        },
        {
         "metadata": "{}",
         "name": "payment_type",
         "type": "\"long\""
        },
        {
         "metadata": "{}",
         "name": "fare_amount",
         "type": "\"double\""
        },
        {
         "metadata": "{}",
         "name": "extra",
         "type": "\"double\""
        },
        {
         "metadata": "{}",
         "name": "mta_tax",
         "type": "\"double\""
        },
        {
         "metadata": "{}",
         "name": "tip_amount",
         "type": "\"double\""
        },
        {
         "metadata": "{}",
         "name": "tolls_amount",
         "type": "\"double\""
        },
        {
         "metadata": "{}",
         "name": "improvement_surcharge",
         "type": "\"double\""
        },
        {
         "metadata": "{}",
         "name": "total_amount",
         "type": "\"double\""
        },
        {
         "metadata": "{}",
         "name": "congestion_surcharge",
         "type": "\"double\""
        },
        {
         "metadata": "{}",
         "name": "airport_fee",
         "type": "\"double\""
        }
       ],
       "type": "table"
      }
     },
     "output_type": "display_data"
    }
   ],
   "source": [
    "%sql\n",
    "-- check query from table that supports partitioning\n",
    "SELECT * FROM dbt_glue_db.nyc_taxi_iceberg_data_manipulation WHERE pickup_day =  5 limit 10;"
   ]
  },
  {
   "cell_type": "code",
   "execution_count": 0,
   "metadata": {
    "application/vnd.databricks.v1+cell": {
     "cellMetadata": {
      "byteLimit": 2048000,
      "implicitDf": true,
      "rowLimit": 10000
     },
     "inputWidgets": {},
     "nuid": "54320168-b18a-46bb-8db1-61cb4bb5e789",
     "showTitle": false,
     "title": ""
    }
   },
   "outputs": [
    {
     "output_type": "display_data",
     "data": {
      "text/html": [
       "<style scoped>\n",
       "  .table-result-container {\n",
       "    max-height: 300px;\n",
       "    overflow: auto;\n",
       "  }\n",
       "  table, th, td {\n",
       "    border: 1px solid black;\n",
       "    border-collapse: collapse;\n",
       "  }\n",
       "  th, td {\n",
       "    padding: 5px;\n",
       "  }\n",
       "  th {\n",
       "    text-align: left;\n",
       "  }\n",
       "</style><div class='table-result-container'><table class='table-result'><thead style='background-color: white'><tr><th>passenger_count</th><th>trips</th></tr></thead><tbody><tr><td>null</td><td>160</td></tr><tr><td>0.0</td><td>1</td></tr><tr><td>1.0</td><td>2991</td></tr><tr><td>2.0</td><td>493</td></tr><tr><td>3.0</td><td>130</td></tr><tr><td>4.0</td><td>49</td></tr><tr><td>5.0</td><td>91</td></tr><tr><td>6.0</td><td>70</td></tr></tbody></table></div>"
      ]
     },
     "metadata": {
      "application/vnd.databricks.v1+output": {
       "addedWidgets": {},
       "aggData": [],
       "aggError": "",
       "aggOverflow": false,
       "aggSchema": [],
       "aggSeriesLimitReached": false,
       "aggType": "",
       "arguments": {},
       "columnCustomDisplayInfos": {},
       "data": [
        [
         null,
         160
        ],
        [
         0.0,
         1
        ],
        [
         1.0,
         2991
        ],
        [
         2.0,
         493
        ],
        [
         3.0,
         130
        ],
        [
         4.0,
         49
        ],
        [
         5.0,
         91
        ],
        [
         6.0,
         70
        ]
       ],
       "datasetInfos": [],
       "dbfsResultPath": null,
       "isJsonSchema": true,
       "metadata": {
        "dataframeName": "_sqldf",
        "executionCount": 16
       },
       "overflow": false,
       "plotOptions": {
        "customPlotOptions": {},
        "displayType": "table",
        "pivotAggregation": null,
        "pivotColumns": null,
        "xColumns": null,
        "yColumns": null
       },
       "removedWidgets": [],
       "schema": [
        {
         "metadata": "{}",
         "name": "passenger_count",
         "type": "\"double\""
        },
        {
         "metadata": "{}",
         "name": "trips",
         "type": "\"long\""
        }
       ],
       "type": "table"
      }
     },
     "output_type": "display_data"
    }
   ],
   "source": [
    "%sql\n",
    "-- 161 records with passenger_count: Null or 0\n",
    "-- 2991 records with passenger_count = 1\n",
    "SELECT passenger_count, count(*) as trips \n",
    "FROM dbt_glue_db.nyc_taxi_iceberg_data_manipulation \n",
    "WHERE (vendorid = 2 and year(tpep_pickup_datetime) = 2022 and month(tpep_pickup_datetime) = 1 and pickup_day = 31)\n",
    "GROUP BY passenger_count\n",
    "ORDER BY passenger_count ASC;"
   ]
  },
  {
   "cell_type": "code",
   "execution_count": 0,
   "metadata": {
    "application/vnd.databricks.v1+cell": {
     "cellMetadata": {
      "byteLimit": 2048000,
      "implicitDf": true,
      "rowLimit": 10000
     },
     "inputWidgets": {},
     "nuid": "25274d4e-bcbc-4ce2-829e-61cee50ba6e5",
     "showTitle": false,
     "title": ""
    }
   },
   "outputs": [
    {
     "output_type": "display_data",
     "data": {
      "text/html": [
       "<style scoped>\n",
       "  .table-result-container {\n",
       "    max-height: 300px;\n",
       "    overflow: auto;\n",
       "  }\n",
       "  table, th, td {\n",
       "    border: 1px solid black;\n",
       "    border-collapse: collapse;\n",
       "  }\n",
       "  th, td {\n",
       "    padding: 5px;\n",
       "  }\n",
       "  th {\n",
       "    text-align: left;\n",
       "  }\n",
       "</style><div class='table-result-container'><table class='table-result'><thead style='background-color: white'><tr><th>num_affected_rows</th></tr></thead><tbody><tr><td>161</td></tr></tbody></table></div>"
      ]
     },
     "metadata": {
      "application/vnd.databricks.v1+output": {
       "addedWidgets": {},
       "aggData": [],
       "aggError": "",
       "aggOverflow": false,
       "aggSchema": [],
       "aggSeriesLimitReached": false,
       "aggType": "",
       "arguments": {},
       "columnCustomDisplayInfos": {},
       "data": [
        [
         161
        ]
       ],
       "datasetInfos": [],
       "dbfsResultPath": null,
       "isJsonSchema": true,
       "metadata": {
        "dataframeName": "_sqldf",
        "executionCount": 17
       },
       "overflow": false,
       "plotOptions": {
        "customPlotOptions": {},
        "displayType": "table",
        "pivotAggregation": null,
        "pivotColumns": null,
        "xColumns": null,
        "yColumns": null
       },
       "removedWidgets": [],
       "schema": [
        {
         "metadata": "{}",
         "name": "num_affected_rows",
         "type": "\"long\""
        }
       ],
       "type": "table"
      }
     },
     "output_type": "display_data"
    }
   ],
   "source": [
    "%sql\n",
    "-- Update the passenger_count to fill NULL or 0\n",
    "UPDATE dbt_glue_db.nyc_taxi_iceberg_data_manipulation \n",
    "SET passenger_count = 1\n",
    "WHERE (vendorid = 2 and year(tpep_pickup_datetime) = 2022 and month(tpep_pickup_datetime) = 1 and pickup_day = 31) AND (passenger_count is NULL OR passenger_count = 0)"
   ]
  },
  {
   "cell_type": "code",
   "execution_count": 0,
   "metadata": {
    "application/vnd.databricks.v1+cell": {
     "cellMetadata": {
      "byteLimit": 2048000,
      "implicitDf": true,
      "rowLimit": 10000
     },
     "inputWidgets": {},
     "nuid": "3c407a34-f4e2-4522-a1c1-fde42d7d2cca",
     "showTitle": false,
     "title": ""
    }
   },
   "outputs": [
    {
     "output_type": "display_data",
     "data": {
      "text/html": [
       "<style scoped>\n",
       "  .table-result-container {\n",
       "    max-height: 300px;\n",
       "    overflow: auto;\n",
       "  }\n",
       "  table, th, td {\n",
       "    border: 1px solid black;\n",
       "    border-collapse: collapse;\n",
       "  }\n",
       "  th, td {\n",
       "    padding: 5px;\n",
       "  }\n",
       "  th {\n",
       "    text-align: left;\n",
       "  }\n",
       "</style><div class='table-result-container'><table class='table-result'><thead style='background-color: white'><tr><th>passenger_count</th><th>trips</th></tr></thead><tbody><tr><td>1.0</td><td>3152</td></tr><tr><td>2.0</td><td>493</td></tr><tr><td>3.0</td><td>130</td></tr><tr><td>4.0</td><td>49</td></tr><tr><td>5.0</td><td>91</td></tr><tr><td>6.0</td><td>70</td></tr></tbody></table></div>"
      ]
     },
     "metadata": {
      "application/vnd.databricks.v1+output": {
       "addedWidgets": {},
       "aggData": [],
       "aggError": "",
       "aggOverflow": false,
       "aggSchema": [],
       "aggSeriesLimitReached": false,
       "aggType": "",
       "arguments": {},
       "columnCustomDisplayInfos": {},
       "data": [
        [
         1.0,
         3152
        ],
        [
         2.0,
         493
        ],
        [
         3.0,
         130
        ],
        [
         4.0,
         49
        ],
        [
         5.0,
         91
        ],
        [
         6.0,
         70
        ]
       ],
       "datasetInfos": [],
       "dbfsResultPath": null,
       "isJsonSchema": true,
       "metadata": {
        "dataframeName": "_sqldf",
        "executionCount": 18
       },
       "overflow": false,
       "plotOptions": {
        "customPlotOptions": {},
        "displayType": "table",
        "pivotAggregation": null,
        "pivotColumns": null,
        "xColumns": null,
        "yColumns": null
       },
       "removedWidgets": [],
       "schema": [
        {
         "metadata": "{}",
         "name": "passenger_count",
         "type": "\"double\""
        },
        {
         "metadata": "{}",
         "name": "trips",
         "type": "\"long\""
        }
       ],
       "type": "table"
      }
     },
     "output_type": "display_data"
    }
   ],
   "source": [
    "%sql\n",
    "-- confirm the updates\n",
    "-- 3152 (2991 + 160 + 1) records with passenger_count = 1\n",
    "SELECT passenger_count, count(*) as trips \n",
    "FROM dbt_glue_db.nyc_taxi_iceberg_data_manipulation \n",
    "WHERE (vendorid = 2 and year(tpep_pickup_datetime) = 2022 and month(tpep_pickup_datetime) = 1 and pickup_day = 31)\n",
    "GROUP BY passenger_count\n",
    "ORDER BY passenger_count ASC;"
   ]
  },
  {
   "cell_type": "code",
   "execution_count": 0,
   "metadata": {
    "application/vnd.databricks.v1+cell": {
     "cellMetadata": {
      "byteLimit": 2048000,
      "implicitDf": true,
      "rowLimit": 10000
     },
     "inputWidgets": {},
     "nuid": "447c6af9-ebde-43d5-acba-88599b8a25a1",
     "showTitle": false,
     "title": ""
    }
   },
   "outputs": [
    {
     "output_type": "display_data",
     "data": {
      "text/html": [
       "<style scoped>\n",
       "  .table-result-container {\n",
       "    max-height: 300px;\n",
       "    overflow: auto;\n",
       "  }\n",
       "  table, th, td {\n",
       "    border: 1px solid black;\n",
       "    border-collapse: collapse;\n",
       "  }\n",
       "  th, td {\n",
       "    padding: 5px;\n",
       "  }\n",
       "  th {\n",
       "    text-align: left;\n",
       "  }\n",
       "</style><div class='table-result-container'><table class='table-result'><thead style='background-color: white'><tr><th>vendorid</th><th>pickup_day</th><th>tpep_pickup_datetime</th><th>tpep_dropoff_datetime</th><th>passenger_count</th><th>trip_distance</th><th>ratecodeid</th><th>store_and_fwd_flag</th><th>pulocationid</th><th>dolocationid</th><th>payment_type</th><th>fare_amount</th><th>extra</th><th>mta_tax</th><th>tip_amount</th><th>tolls_amount</th><th>improvement_surcharge</th><th>total_amount</th><th>congestion_surcharge</th><th>airport_fee</th></tr></thead><tbody></tbody></table></div>"
      ]
     },
     "metadata": {
      "application/vnd.databricks.v1+output": {
       "addedWidgets": {},
       "aggData": [],
       "aggError": "",
       "aggOverflow": false,
       "aggSchema": [],
       "aggSeriesLimitReached": false,
       "aggType": "",
       "arguments": {},
       "columnCustomDisplayInfos": {},
       "data": [],
       "datasetInfos": [],
       "dbfsResultPath": null,
       "isJsonSchema": true,
       "metadata": {
        "dataframeName": "_sqldf",
        "executionCount": 22
       },
       "overflow": false,
       "plotOptions": {
        "customPlotOptions": {},
        "displayType": "table",
        "pivotAggregation": null,
        "pivotColumns": null,
        "xColumns": null,
        "yColumns": null
       },
       "removedWidgets": [],
       "schema": [
        {
         "metadata": "{}",
         "name": "vendorid",
         "type": "\"long\""
        },
        {
         "metadata": "{}",
         "name": "pickup_day",
         "type": "\"integer\""
        },
        {
         "metadata": "{}",
         "name": "tpep_pickup_datetime",
         "type": "\"timestamp\""
        },
        {
         "metadata": "{}",
         "name": "tpep_dropoff_datetime",
         "type": "\"timestamp\""
        },
        {
         "metadata": "{}",
         "name": "passenger_count",
         "type": "\"double\""
        },
        {
         "metadata": "{}",
         "name": "trip_distance",
         "type": "\"double\""
        },
        {
         "metadata": "{}",
         "name": "ratecodeid",
         "type": "\"double\""
        },
        {
         "metadata": "{}",
         "name": "store_and_fwd_flag",
         "type": "\"string\""
        },
        {
         "metadata": "{}",
         "name": "pulocationid",
         "type": "\"long\""
        },
        {
         "metadata": "{}",
         "name": "dolocationid",
         "type": "\"long\""
        },
        {
         "metadata": "{}",
         "name": "payment_type",
         "type": "\"long\""
        },
        {
         "metadata": "{}",
         "name": "fare_amount",
         "type": "\"double\""
        },
        {
         "metadata": "{}",
         "name": "extra",
         "type": "\"double\""
        },
        {
         "metadata": "{}",
         "name": "mta_tax",
         "type": "\"double\""
        },
        {
         "metadata": "{}",
         "name": "tip_amount",
         "type": "\"double\""
        },
        {
         "metadata": "{}",
         "name": "tolls_amount",
         "type": "\"double\""
        },
        {
         "metadata": "{}",
         "name": "improvement_surcharge",
         "type": "\"double\""
        },
        {
         "metadata": "{}",
         "name": "total_amount",
         "type": "\"double\""
        },
        {
         "metadata": "{}",
         "name": "congestion_surcharge",
         "type": "\"double\""
        },
        {
         "metadata": "{}",
         "name": "airport_fee",
         "type": "\"double\""
        }
       ],
       "type": "table"
      }
     },
     "output_type": "display_data"
    }
   ],
   "source": [
    "%sql\n",
    "-- Earliest time is 2023-11-29 02:41:54\n",
    "SELECT * FROM dbt_glue_db.nyc_taxi_iceberg_data_manipulation FOR SYSTEM_TIME AS OF TIMESTAMP '2023-11-29 03:00:00' WHERE vendorid = 2 and year(tpep_pickup_datetime)= 2022 limit 10; "
   ]
  },
  {
   "cell_type": "code",
   "execution_count": 0,
   "metadata": {
    "application/vnd.databricks.v1+cell": {
     "cellMetadata": {
      "byteLimit": 2048000,
      "implicitDf": true,
      "rowLimit": 10000
     },
     "inputWidgets": {},
     "nuid": "7398e491-3f60-4cd7-91f6-4643fe12779a",
     "showTitle": false,
     "title": ""
    }
   },
   "outputs": [
    {
     "output_type": "display_data",
     "data": {
      "text/html": [
       "<style scoped>\n",
       "  .table-result-container {\n",
       "    max-height: 300px;\n",
       "    overflow: auto;\n",
       "  }\n",
       "  table, th, td {\n",
       "    border: 1px solid black;\n",
       "    border-collapse: collapse;\n",
       "  }\n",
       "  th, td {\n",
       "    padding: 5px;\n",
       "  }\n",
       "  th {\n",
       "    text-align: left;\n",
       "  }\n",
       "</style><div class='table-result-container'><table class='table-result'><thead style='background-color: white'><tr><th>col_name</th><th>data_type</th><th>comment</th></tr></thead><tbody><tr><td>vendorid</td><td>bigint</td><td>null</td></tr><tr><td>pickup_day</td><td>int</td><td>null</td></tr><tr><td>tpep_pickup_datetime</td><td>timestamp</td><td>null</td></tr><tr><td>tpep_dropoff_datetime</td><td>timestamp</td><td>null</td></tr><tr><td>passenger_count</td><td>double</td><td>null</td></tr><tr><td>trip_distance</td><td>double</td><td>null</td></tr><tr><td>ratecodeid</td><td>double</td><td>null</td></tr><tr><td>store_and_fwd_flag</td><td>string</td><td>null</td></tr><tr><td>pulocationid</td><td>bigint</td><td>null</td></tr><tr><td>dolocationid</td><td>bigint</td><td>null</td></tr><tr><td>payment_type</td><td>bigint</td><td>null</td></tr><tr><td>fare_amount</td><td>double</td><td>null</td></tr><tr><td>extra</td><td>double</td><td>null</td></tr><tr><td>mta_tax</td><td>double</td><td>null</td></tr><tr><td>tip_amount</td><td>double</td><td>null</td></tr><tr><td>tolls_amount</td><td>double</td><td>null</td></tr><tr><td>improvement_surcharge</td><td>double</td><td>null</td></tr><tr><td>total_amount</td><td>double</td><td>null</td></tr><tr><td>congestion_surcharge</td><td>double</td><td>null</td></tr><tr><td>airport_fee</td><td>double</td><td>null</td></tr><tr><td># Partition Information</td><td></td><td></td></tr><tr><td># col_name</td><td>data_type</td><td>comment</td></tr><tr><td>pickup_day</td><td>int</td><td>null</td></tr><tr><td></td><td></td><td></td></tr><tr><td># Delta Statistics Columns</td><td></td><td></td></tr><tr><td>Column Names</td><td>improvement_surcharge, tpep_dropoff_datetime, trip_distance, tolls_amount, pulocationid, tip_amount, payment_type, fare_amount, passenger_count, store_and_fwd_flag, extra, vendorid, dolocationid, airport_fee, congestion_surcharge, total_amount, tpep_pickup_datetime, ratecodeid, mta_tax</td><td></td></tr><tr><td>Column Selection Method</td><td>first-32</td><td></td></tr><tr><td></td><td></td><td></td></tr><tr><td># Detailed Table Information</td><td></td><td></td></tr><tr><td>Catalog</td><td>spark_catalog</td><td></td></tr><tr><td>Database</td><td>dbt_glue_db</td><td></td></tr><tr><td>Table</td><td>nyc_taxi_iceberg_data_manipulation</td><td></td></tr><tr><td>Created Time</td><td>Wed Nov 29 02:41:55 UTC 2023</td><td></td></tr><tr><td>Last Access</td><td>UNKNOWN</td><td></td></tr><tr><td>Created By</td><td>Spark 3.5.0</td><td></td></tr><tr><td>Type</td><td>EXTERNAL</td><td></td></tr><tr><td>Location</td><td>s3://rvo-prevention-coaching-app-stage-us-east-1/testing/dbt-glue-iceberg/nyc_taxi_iceberg_data_manipulation</td><td></td></tr><tr><td>Provider</td><td>delta</td><td></td></tr><tr><td>Owner</td><td>root</td><td></td></tr><tr><td>Table Properties</td><td>[delta.minReaderVersion=1,delta.minWriterVersion=2,table_type=ICEBERG]</td><td></td></tr></tbody></table></div>"
      ]
     },
     "metadata": {
      "application/vnd.databricks.v1+output": {
       "addedWidgets": {},
       "aggData": [],
       "aggError": "",
       "aggOverflow": false,
       "aggSchema": [],
       "aggSeriesLimitReached": false,
       "aggType": "",
       "arguments": {},
       "columnCustomDisplayInfos": {},
       "data": [
        [
         "vendorid",
         "bigint",
         null
        ],
        [
         "pickup_day",
         "int",
         null
        ],
        [
         "tpep_pickup_datetime",
         "timestamp",
         null
        ],
        [
         "tpep_dropoff_datetime",
         "timestamp",
         null
        ],
        [
         "passenger_count",
         "double",
         null
        ],
        [
         "trip_distance",
         "double",
         null
        ],
        [
         "ratecodeid",
         "double",
         null
        ],
        [
         "store_and_fwd_flag",
         "string",
         null
        ],
        [
         "pulocationid",
         "bigint",
         null
        ],
        [
         "dolocationid",
         "bigint",
         null
        ],
        [
         "payment_type",
         "bigint",
         null
        ],
        [
         "fare_amount",
         "double",
         null
        ],
        [
         "extra",
         "double",
         null
        ],
        [
         "mta_tax",
         "double",
         null
        ],
        [
         "tip_amount",
         "double",
         null
        ],
        [
         "tolls_amount",
         "double",
         null
        ],
        [
         "improvement_surcharge",
         "double",
         null
        ],
        [
         "total_amount",
         "double",
         null
        ],
        [
         "congestion_surcharge",
         "double",
         null
        ],
        [
         "airport_fee",
         "double",
         null
        ],
        [
         "# Partition Information",
         "",
         ""
        ],
        [
         "# col_name",
         "data_type",
         "comment"
        ],
        [
         "pickup_day",
         "int",
         null
        ],
        [
         "",
         "",
         ""
        ],
        [
         "# Delta Statistics Columns",
         "",
         ""
        ],
        [
         "Column Names",
         "improvement_surcharge, tpep_dropoff_datetime, trip_distance, tolls_amount, pulocationid, tip_amount, payment_type, fare_amount, passenger_count, store_and_fwd_flag, extra, vendorid, dolocationid, airport_fee, congestion_surcharge, total_amount, tpep_pickup_datetime, ratecodeid, mta_tax",
         ""
        ],
        [
         "Column Selection Method",
         "first-32",
         ""
        ],
        [
         "",
         "",
         ""
        ],
        [
         "# Detailed Table Information",
         "",
         ""
        ],
        [
         "Catalog",
         "spark_catalog",
         ""
        ],
        [
         "Database",
         "dbt_glue_db",
         ""
        ],
        [
         "Table",
         "nyc_taxi_iceberg_data_manipulation",
         ""
        ],
        [
         "Created Time",
         "Wed Nov 29 02:41:55 UTC 2023",
         ""
        ],
        [
         "Last Access",
         "UNKNOWN",
         ""
        ],
        [
         "Created By",
         "Spark 3.5.0",
         ""
        ],
        [
         "Type",
         "EXTERNAL",
         ""
        ],
        [
         "Location",
         "s3://rvo-prevention-coaching-app-stage-us-east-1/testing/dbt-glue-iceberg/nyc_taxi_iceberg_data_manipulation",
         ""
        ],
        [
         "Provider",
         "delta",
         ""
        ],
        [
         "Owner",
         "root",
         ""
        ],
        [
         "Table Properties",
         "[delta.minReaderVersion=1,delta.minWriterVersion=2,table_type=ICEBERG]",
         ""
        ]
       ],
       "datasetInfos": [],
       "dbfsResultPath": null,
       "isJsonSchema": true,
       "metadata": {
        "dataframeName": "_sqldf",
        "executionCount": 24
       },
       "overflow": false,
       "plotOptions": {
        "customPlotOptions": {},
        "displayType": "table",
        "pivotAggregation": null,
        "pivotColumns": null,
        "xColumns": null,
        "yColumns": null
       },
       "removedWidgets": [],
       "schema": [
        {
         "metadata": "{\"comment\":\"name of the column\"}",
         "name": "col_name",
         "type": "\"string\""
        },
        {
         "metadata": "{\"comment\":\"data type of the column\"}",
         "name": "data_type",
         "type": "\"string\""
        },
        {
         "metadata": "{\"comment\":\"comment of the column\"}",
         "name": "comment",
         "type": "\"string\""
        }
       ],
       "type": "table"
      }
     },
     "output_type": "display_data"
    }
   ],
   "source": [
    "%sql\n",
    "describe FORMATTED dbt_glue_db.nyc_taxi_iceberg_data_manipulation;"
   ]
  },
  {
   "cell_type": "code",
   "execution_count": 0,
   "metadata": {
    "application/vnd.databricks.v1+cell": {
     "cellMetadata": {
      "byteLimit": 2048000,
      "implicitDf": true,
      "rowLimit": 10000
     },
     "inputWidgets": {},
     "nuid": "056ab0a1-9d25-492e-88db-a2d94bba976f",
     "showTitle": false,
     "title": ""
    }
   },
   "outputs": [
    {
     "output_type": "display_data",
     "data": {
      "text/html": [
       "<style scoped>\n",
       "  .ansiout {\n",
       "    display: block;\n",
       "    unicode-bidi: embed;\n",
       "    white-space: pre-wrap;\n",
       "    word-wrap: break-word;\n",
       "    word-break: break-all;\n",
       "    font-family: \"Menlo\", \"Monaco\", \"Consolas\", \"Ubuntu Mono\", \"Source Code Pro\", monospace;\n",
       "    font-size: 13px;\n",
       "    color: #555;\n",
       "    margin-left: 4px;\n",
       "    line-height: 19px;\n",
       "  }\n",
       "</style>\n",
       "com.databricks.backend.common.rpc.SparkDriverExceptions$SQLExecutionException: org.apache.spark.sql.AnalysisException: [UC_NOT_ENABLED] Unity Catalog is not enabled on this cluster.\n",
       "\tat org.apache.spark.sql.connector.catalog.LookupCatalog$CatalogAndIdentifier$.unapply(LookupCatalog.scala:152)\n",
       "\tat org.apache.spark.sql.catalyst.analysis.Analyzer$ResolveRelations$.$anonfun$resolveRelation$1(Analyzer.scala:1671)\n",
       "\tat scala.Option.orElse(Option.scala:447)\n",
       "\tat org.apache.spark.sql.catalyst.analysis.Analyzer$ResolveRelations$.org$apache$spark$sql$catalyst$analysis$Analyzer$ResolveRelations$$resolveRelation(Analyzer.scala:1670)\n",
       "\tat org.apache.spark.sql.catalyst.analysis.Analyzer$ResolveRelations$$anonfun$apply0$1.$anonfun$applyOrElse$82(Analyzer.scala:1435)\n",
       "\tat org.apache.spark.sql.catalyst.analysis.Analyzer$ResolveRelations$.org$apache$spark$sql$catalyst$analysis$Analyzer$ResolveRelations$$handleGlueError(Analyzer.scala:1547)\n",
       "\tat org.apache.spark.sql.catalyst.analysis.Analyzer$ResolveRelations$$anonfun$apply0$1.applyOrElse(Analyzer.scala:1435)\n",
       "\tat org.apache.spark.sql.catalyst.analysis.Analyzer$ResolveRelations$$anonfun$apply0$1.applyOrElse(Analyzer.scala:1391)\n",
       "\tat org.apache.spark.sql.catalyst.plans.logical.AnalysisHelper.$anonfun$resolveOperatorsUpWithPruning$3(AnalysisHelper.scala:141)\n",
       "\tat org.apache.spark.sql.catalyst.trees.CurrentOrigin$.withOrigin(origin.scala:76)\n",
       "\tat org.apache.spark.sql.catalyst.plans.logical.AnalysisHelper.$anonfun$resolveOperatorsUpWithPruning$1(AnalysisHelper.scala:141)\n",
       "\tat org.apache.spark.sql.catalyst.plans.logical.AnalysisHelper$.allowInvokingTransformsInAnalyzer(AnalysisHelper.scala:372)\n",
       "\tat org.apache.spark.sql.catalyst.plans.logical.AnalysisHelper.resolveOperatorsUpWithPruning(AnalysisHelper.scala:137)\n",
       "\tat org.apache.spark.sql.catalyst.plans.logical.AnalysisHelper.resolveOperatorsUpWithPruning$(AnalysisHelper.scala:133)\n",
       "\tat org.apache.spark.sql.catalyst.plans.logical.LogicalPlan.resolveOperatorsUpWithPruning(LogicalPlan.scala:39)\n",
       "\tat org.apache.spark.sql.catalyst.plans.logical.AnalysisHelper.$anonfun$resolveOperatorsUpWithPruning$2(AnalysisHelper.scala:138)\n",
       "\tat org.apache.spark.sql.catalyst.trees.UnaryLike.mapChildren(TreeNode.scala:1274)\n",
       "\tat org.apache.spark.sql.catalyst.trees.UnaryLike.mapChildren$(TreeNode.scala:1273)\n",
       "\tat org.apache.spark.sql.catalyst.plans.logical.SubqueryAlias.mapChildren(basicLogicalOperators.scala:1924)\n",
       "\tat org.apache.spark.sql.catalyst.plans.logical.AnalysisHelper.$anonfun$resolveOperatorsUpWithPruning$1(AnalysisHelper.scala:138)\n",
       "\tat org.apache.spark.sql.catalyst.plans.logical.AnalysisHelper$.allowInvokingTransformsInAnalyzer(AnalysisHelper.scala:372)\n",
       "\tat org.apache.spark.sql.catalyst.plans.logical.AnalysisHelper.resolveOperatorsUpWithPruning(AnalysisHelper.scala:137)\n",
       "\tat org.apache.spark.sql.catalyst.plans.logical.AnalysisHelper.resolveOperatorsUpWithPruning$(AnalysisHelper.scala:133)\n",
       "\tat org.apache.spark.sql.catalyst.plans.logical.LogicalPlan.resolveOperatorsUpWithPruning(LogicalPlan.scala:39)\n",
       "\tat org.apache.spark.sql.catalyst.plans.logical.AnalysisHelper.$anonfun$resolveOperatorsUpWithPruning$2(AnalysisHelper.scala:138)\n",
       "\tat org.apache.spark.sql.catalyst.trees.BinaryLike.mapChildren(TreeNode.scala:1301)\n",
       "\tat org.apache.spark.sql.catalyst.trees.BinaryLike.mapChildren$(TreeNode.scala:1300)\n",
       "\tat org.apache.spark.sql.catalyst.plans.logical.Join.mapChildren(basicLogicalOperators.scala:580)\n",
       "\tat org.apache.spark.sql.catalyst.plans.logical.AnalysisHelper.$anonfun$resolveOperatorsUpWithPruning$1(AnalysisHelper.scala:138)\n",
       "\tat org.apache.spark.sql.catalyst.plans.logical.AnalysisHelper$.allowInvokingTransformsInAnalyzer(AnalysisHelper.scala:372)\n",
       "\tat org.apache.spark.sql.catalyst.plans.logical.AnalysisHelper.resolveOperatorsUpWithPruning(AnalysisHelper.scala:137)\n",
       "\tat org.apache.spark.sql.catalyst.plans.logical.AnalysisHelper.resolveOperatorsUpWithPruning$(AnalysisHelper.scala:133)\n",
       "\tat org.apache.spark.sql.catalyst.plans.logical.LogicalPlan.resolveOperatorsUpWithPruning(LogicalPlan.scala:39)\n",
       "\tat org.apache.spark.sql.catalyst.plans.logical.AnalysisHelper.$anonfun$resolveOperatorsUpWithPruning$2(AnalysisHelper.scala:138)\n",
       "\tat org.apache.spark.sql.catalyst.trees.UnaryLike.mapChildren(TreeNode.scala:1274)\n",
       "\tat org.apache.spark.sql.catalyst.trees.UnaryLike.mapChildren$(TreeNode.scala:1273)\n",
       "\tat org.apache.spark.sql.catalyst.plans.logical.Project.mapChildren(basicLogicalOperators.scala:84)\n",
       "\tat org.apache.spark.sql.catalyst.plans.logical.AnalysisHelper.$anonfun$resolveOperatorsUpWithPruning$1(AnalysisHelper.scala:138)\n",
       "\tat org.apache.spark.sql.catalyst.plans.logical.AnalysisHelper$.allowInvokingTransformsInAnalyzer(AnalysisHelper.scala:372)\n",
       "\tat org.apache.spark.sql.catalyst.plans.logical.AnalysisHelper.resolveOperatorsUpWithPruning(AnalysisHelper.scala:137)\n",
       "\tat org.apache.spark.sql.catalyst.plans.logical.AnalysisHelper.resolveOperatorsUpWithPruning$(AnalysisHelper.scala:133)\n",
       "\tat org.apache.spark.sql.catalyst.plans.logical.LogicalPlan.resolveOperatorsUpWithPruning(LogicalPlan.scala:39)\n",
       "\tat org.apache.spark.sql.catalyst.plans.logical.AnalysisHelper.$anonfun$resolveOperatorsUpWithPruning$2(AnalysisHelper.scala:138)\n",
       "\tat org.apache.spark.sql.catalyst.trees.UnaryLike.mapChildren(TreeNode.scala:1274)\n",
       "\tat org.apache.spark.sql.catalyst.trees.UnaryLike.mapChildren$(TreeNode.scala:1273)\n",
       "\tat org.apache.spark.sql.catalyst.plans.logical.Sort.mapChildren(basicLogicalOperators.scala:1078)\n",
       "\tat org.apache.spark.sql.catalyst.plans.logical.AnalysisHelper.$anonfun$resolveOperatorsUpWithPruning$1(AnalysisHelper.scala:138)\n",
       "\tat org.apache.spark.sql.catalyst.plans.logical.AnalysisHelper$.allowInvokingTransformsInAnalyzer(AnalysisHelper.scala:372)\n",
       "\tat org.apache.spark.sql.catalyst.plans.logical.AnalysisHelper.resolveOperatorsUpWithPruning(AnalysisHelper.scala:137)\n",
       "\tat org.apache.spark.sql.catalyst.plans.logical.AnalysisHelper.resolveOperatorsUpWithPruning$(AnalysisHelper.scala:133)\n",
       "\tat org.apache.spark.sql.catalyst.plans.logical.LogicalPlan.resolveOperatorsUpWithPruning(LogicalPlan.scala:39)\n",
       "\tat org.apache.spark.sql.catalyst.plans.logical.AnalysisHelper.resolveOperatorsUpWithSubqueriesAndPruningByConf(AnalysisHelper.scala:175)\n",
       "\tat org.apache.spark.sql.catalyst.plans.logical.AnalysisHelper.resolveOperatorsUpWithSubqueriesAndPruningByConf$(AnalysisHelper.scala:169)\n",
       "\tat org.apache.spark.sql.catalyst.plans.logical.LogicalPlan.resolveOperatorsUpWithSubqueriesAndPruningByConf(LogicalPlan.scala:39)\n",
       "\tat org.apache.spark.sql.catalyst.analysis.Analyzer$ResolveRelations$.apply0(Analyzer.scala:1391)\n",
       "\tat org.apache.spark.sql.catalyst.analysis.Analyzer$ResolveRelations$.apply(Analyzer.scala:1361)\n",
       "\tat org.apache.spark.sql.catalyst.analysis.Analyzer$ResolveRelations$.apply(Analyzer.scala:1287)\n",
       "\tat org.apache.spark.sql.catalyst.rules.RuleExecutor.$anonfun$execute$4(RuleExecutor.scala:308)\n",
       "\tat com.databricks.spark.util.FrameProfiler$.record(FrameProfiler.scala:94)\n",
       "\tat org.apache.spark.sql.catalyst.rules.RuleExecutor.$anonfun$execute$3(RuleExecutor.scala:308)\n",
       "\tat scala.collection.LinearSeqOptimized.foldLeft(LinearSeqOptimized.scala:126)\n",
       "\tat scala.collection.LinearSeqOptimized.foldLeft$(LinearSeqOptimized.scala:122)\n",
       "\tat scala.collection.immutable.List.foldLeft(List.scala:91)\n",
       "\tat org.apache.spark.sql.catalyst.rules.RuleExecutor.$anonfun$execute$2(RuleExecutor.scala:305)\n",
       "\tat scala.runtime.java8.JFunction0$mcV$sp.apply(JFunction0$mcV$sp.java:23)\n",
       "\tat com.databricks.spark.util.FrameProfiler$.record(FrameProfiler.scala:94)\n",
       "\tat org.apache.spark.sql.catalyst.rules.RuleExecutor.executeBatch$1(RuleExecutor.scala:288)\n",
       "\tat org.apache.spark.sql.catalyst.rules.RuleExecutor.$anonfun$execute$8(RuleExecutor.scala:375)\n",
       "\tat org.apache.spark.sql.catalyst.rules.RuleExecutor.$anonfun$execute$8$adapted(RuleExecutor.scala:375)\n",
       "\tat scala.collection.immutable.List.foreach(List.scala:431)\n",
       "\tat org.apache.spark.sql.catalyst.rules.RuleExecutor.$anonfun$execute$1(RuleExecutor.scala:375)\n",
       "\tat com.databricks.spark.util.FrameProfiler$.record(FrameProfiler.scala:94)\n",
       "\tat org.apache.spark.sql.catalyst.rules.RuleExecutor.execute(RuleExecutor.scala:255)\n",
       "\tat org.apache.spark.sql.catalyst.analysis.Analyzer.executeSameContext(Analyzer.scala:410)\n",
       "\tat org.apache.spark.sql.catalyst.analysis.Analyzer.$anonfun$execute$1(Analyzer.scala:403)\n",
       "\tat org.apache.spark.sql.catalyst.analysis.AnalysisContext$.withNewAnalysisContext(Analyzer.scala:308)\n",
       "\tat org.apache.spark.sql.catalyst.analysis.Analyzer.execute(Analyzer.scala:403)\n",
       "\tat org.apache.spark.sql.catalyst.analysis.Analyzer.execute(Analyzer.scala:327)\n",
       "\tat org.apache.spark.sql.catalyst.rules.RuleExecutor.$anonfun$executeAndTrack$1(RuleExecutor.scala:247)\n",
       "\tat org.apache.spark.sql.catalyst.QueryPlanningTracker$.withTracker(QueryPlanningTracker.scala:166)\n",
       "\tat org.apache.spark.sql.catalyst.rules.RuleExecutor.executeAndTrack(RuleExecutor.scala:247)\n",
       "\tat org.apache.spark.sql.catalyst.analysis.Analyzer.$anonfun$executeAndCheck$1(Analyzer.scala:379)\n",
       "\tat org.apache.spark.sql.catalyst.plans.logical.AnalysisHelper$.markInAnalyzer(AnalysisHelper.scala:379)\n",
       "\tat org.apache.spark.sql.catalyst.analysis.Analyzer.executeAndCheck(Analyzer.scala:378)\n",
       "\tat org.apache.spark.sql.execution.QueryExecution.$anonfun$analyzed$1(QueryExecution.scala:194)\n",
       "\tat com.databricks.spark.util.FrameProfiler$.record(FrameProfiler.scala:94)\n",
       "\tat org.apache.spark.sql.catalyst.QueryPlanningTracker.measurePhase(QueryPlanningTracker.scala:400)\n",
       "\tat org.apache.spark.sql.execution.QueryExecution.$anonfun$executePhase$4(QueryExecution.scala:502)\n",
       "\tat org.apache.spark.sql.execution.QueryExecution$.withInternalError(QueryExecution.scala:1008)\n",
       "\tat org.apache.spark.sql.execution.QueryExecution.$anonfun$executePhase$2(QueryExecution.scala:502)\n",
       "\tat com.databricks.util.LexicalThreadLocal$Handle.runWith(LexicalThreadLocal.scala:63)\n",
       "\tat org.apache.spark.sql.execution.QueryExecution.$anonfun$executePhase$1(QueryExecution.scala:498)\n",
       "\tat org.apache.spark.sql.SparkSession.withActive(SparkSession.scala:1127)\n",
       "\tat org.apache.spark.sql.execution.QueryExecution.executePhase(QueryExecution.scala:498)\n",
       "\tat org.apache.spark.sql.execution.QueryExecution.analyzed$lzycompute(QueryExecution.scala:188)\n",
       "\tat org.apache.spark.sql.execution.QueryExecution.analyzed(QueryExecution.scala:187)\n",
       "\tat org.apache.spark.sql.execution.QueryExecution.assertAnalyzed(QueryExecution.scala:169)\n",
       "\tat org.apache.spark.sql.Dataset$.$anonfun$ofRows$2(Dataset.scala:115)\n",
       "\tat org.apache.spark.sql.SparkSession.withActive(SparkSession.scala:1127)\n",
       "\tat org.apache.spark.sql.SparkSession.$anonfun$withActiveAndFrameProfiler$1(SparkSession.scala:1134)\n",
       "\tat com.databricks.spark.util.FrameProfiler$.record(FrameProfiler.scala:94)\n",
       "\tat org.apache.spark.sql.SparkSession.withActiveAndFrameProfiler(SparkSession.scala:1134)\n",
       "\tat org.apache.spark.sql.Dataset$.ofRows(Dataset.scala:113)\n",
       "\tat org.apache.spark.sql.SparkSession.$anonfun$sql$5(SparkSession.scala:907)\n",
       "\tat org.apache.spark.sql.SparkSession.withActive(SparkSession.scala:1127)\n",
       "\tat org.apache.spark.sql.SparkSession.sql(SparkSession.scala:896)\n",
       "\tat org.apache.spark.sql.SparkSession.sql(SparkSession.scala:930)\n",
       "\tat org.apache.spark.sql.SparkSession.sql(SparkSession.scala:963)\n",
       "\tat org.apache.spark.sql.SQLContext.sql(SQLContext.scala:695)\n",
       "\tat com.databricks.backend.daemon.driver.DriverLocal$DbClassicStrategy.executeSQLQuery(DriverLocal.scala:240)\n",
       "\tat com.databricks.backend.daemon.driver.DriverLocal.executeSQLSubCommand(DriverLocal.scala:324)\n",
       "\tat com.databricks.backend.daemon.driver.DriverLocal.$anonfun$executeSql$1(DriverLocal.scala:343)\n",
       "\tat scala.collection.immutable.List.map(List.scala:293)\n",
       "\tat com.databricks.backend.daemon.driver.DriverLocal.executeSql(DriverLocal.scala:338)\n",
       "\tat com.databricks.backend.daemon.driver.JupyterDriverLocal.repl(JupyterDriverLocal.scala:763)\n",
       "\tat com.databricks.backend.daemon.driver.DriverLocal.$anonfun$execute$34(DriverLocal.scala:1023)\n",
       "\tat com.databricks.unity.EmptyHandle$.runWith(UCSHandle.scala:124)\n",
       "\tat com.databricks.backend.daemon.driver.DriverLocal.$anonfun$execute$22(DriverLocal.scala:1006)\n",
       "\tat com.databricks.logging.UsageLogging.$anonfun$withAttributionContext$1(UsageLogging.scala:426)\n",
       "\tat scala.util.DynamicVariable.withValue(DynamicVariable.scala:62)\n",
       "\tat com.databricks.logging.AttributionContext$.withValue(AttributionContext.scala:216)\n",
       "\tat com.databricks.logging.UsageLogging.withAttributionContext(UsageLogging.scala:424)\n",
       "\tat com.databricks.logging.UsageLogging.withAttributionContext$(UsageLogging.scala:418)\n",
       "\tat com.databricks.backend.daemon.driver.DriverLocal.withAttributionContext(DriverLocal.scala:71)\n",
       "\tat com.databricks.logging.UsageLogging.withAttributionTags(UsageLogging.scala:472)\n",
       "\tat com.databricks.logging.UsageLogging.withAttributionTags$(UsageLogging.scala:455)\n",
       "\tat com.databricks.backend.daemon.driver.DriverLocal.withAttributionTags(DriverLocal.scala:71)\n",
       "\tat com.databricks.backend.daemon.driver.DriverLocal.execute(DriverLocal.scala:948)\n",
       "\tat com.databricks.backend.daemon.driver.DriverWrapper.$anonfun$tryExecutingCommand$1(DriverWrapper.scala:862)\n",
       "\tat scala.util.Try$.apply(Try.scala:213)\n",
       "\tat com.databricks.backend.daemon.driver.DriverWrapper.tryExecutingCommand(DriverWrapper.scala:854)\n",
       "\tat com.databricks.backend.daemon.driver.DriverWrapper.executeCommandAndGetError(DriverWrapper.scala:651)\n",
       "\tat com.databricks.backend.daemon.driver.DriverWrapper.executeCommand(DriverWrapper.scala:808)\n",
       "\tat com.databricks.backend.daemon.driver.DriverWrapper.runInnerLoop(DriverWrapper.scala:528)\n",
       "\tat com.databricks.backend.daemon.driver.DriverWrapper.runInner(DriverWrapper.scala:444)\n",
       "\tat com.databricks.backend.daemon.driver.DriverWrapper.run(DriverWrapper.scala:287)\n",
       "\tat java.lang.Thread.run(Thread.java:750)\n",
       "\n",
       "\tat com.databricks.backend.daemon.driver.DriverLocal.executeSql(DriverLocal.scala:381)\n",
       "\tat com.databricks.backend.daemon.driver.JupyterDriverLocal.repl(JupyterDriverLocal.scala:763)\n",
       "\tat com.databricks.backend.daemon.driver.DriverLocal.$anonfun$execute$34(DriverLocal.scala:1023)\n",
       "\tat com.databricks.unity.EmptyHandle$.runWith(UCSHandle.scala:124)\n",
       "\tat com.databricks.backend.daemon.driver.DriverLocal.$anonfun$execute$22(DriverLocal.scala:1006)\n",
       "\tat com.databricks.logging.UsageLogging.$anonfun$withAttributionContext$1(UsageLogging.scala:426)\n",
       "\tat scala.util.DynamicVariable.withValue(DynamicVariable.scala:62)\n",
       "\tat com.databricks.logging.AttributionContext$.withValue(AttributionContext.scala:216)\n",
       "\tat com.databricks.logging.UsageLogging.withAttributionContext(UsageLogging.scala:424)\n",
       "\tat com.databricks.logging.UsageLogging.withAttributionContext$(UsageLogging.scala:418)\n",
       "\tat com.databricks.backend.daemon.driver.DriverLocal.withAttributionContext(DriverLocal.scala:71)\n",
       "\tat com.databricks.logging.UsageLogging.withAttributionTags(UsageLogging.scala:472)\n",
       "\tat com.databricks.logging.UsageLogging.withAttributionTags$(UsageLogging.scala:455)\n",
       "\tat com.databricks.backend.daemon.driver.DriverLocal.withAttributionTags(DriverLocal.scala:71)\n",
       "\tat com.databricks.backend.daemon.driver.DriverLocal.execute(DriverLocal.scala:948)\n",
       "\tat com.databricks.backend.daemon.driver.DriverWrapper.$anonfun$tryExecutingCommand$1(DriverWrapper.scala:862)\n",
       "\tat scala.util.Try$.apply(Try.scala:213)\n",
       "\tat com.databricks.backend.daemon.driver.DriverWrapper.tryExecutingCommand(DriverWrapper.scala:854)\n",
       "\tat com.databricks.backend.daemon.driver.DriverWrapper.executeCommandAndGetError(DriverWrapper.scala:651)\n",
       "\tat com.databricks.backend.daemon.driver.DriverWrapper.executeCommand(DriverWrapper.scala:808)\n",
       "\tat com.databricks.backend.daemon.driver.DriverWrapper.runInnerLoop(DriverWrapper.scala:528)\n",
       "\tat com.databricks.backend.daemon.driver.DriverWrapper.runInner(DriverWrapper.scala:444)\n",
       "\tat com.databricks.backend.daemon.driver.DriverWrapper.run(DriverWrapper.scala:287)\n",
       "\tat java.lang.Thread.run(Thread.java:750)"
      ]
     },
     "metadata": {
      "application/vnd.databricks.v1+output": {
       "arguments": {},
       "data": "com.databricks.backend.common.rpc.SparkDriverExceptions$SQLExecutionException: org.apache.spark.sql.AnalysisException: [UC_NOT_ENABLED] Unity Catalog is not enabled on this cluster.\n\tat org.apache.spark.sql.connector.catalog.LookupCatalog$CatalogAndIdentifier$.unapply(LookupCatalog.scala:152)\n\tat org.apache.spark.sql.catalyst.analysis.Analyzer$ResolveRelations$.$anonfun$resolveRelation$1(Analyzer.scala:1671)\n\tat scala.Option.orElse(Option.scala:447)\n\tat org.apache.spark.sql.catalyst.analysis.Analyzer$ResolveRelations$.org$apache$spark$sql$catalyst$analysis$Analyzer$ResolveRelations$$resolveRelation(Analyzer.scala:1670)\n\tat org.apache.spark.sql.catalyst.analysis.Analyzer$ResolveRelations$$anonfun$apply0$1.$anonfun$applyOrElse$82(Analyzer.scala:1435)\n\tat org.apache.spark.sql.catalyst.analysis.Analyzer$ResolveRelations$.org$apache$spark$sql$catalyst$analysis$Analyzer$ResolveRelations$$handleGlueError(Analyzer.scala:1547)\n\tat org.apache.spark.sql.catalyst.analysis.Analyzer$ResolveRelations$$anonfun$apply0$1.applyOrElse(Analyzer.scala:1435)\n\tat org.apache.spark.sql.catalyst.analysis.Analyzer$ResolveRelations$$anonfun$apply0$1.applyOrElse(Analyzer.scala:1391)\n\tat org.apache.spark.sql.catalyst.plans.logical.AnalysisHelper.$anonfun$resolveOperatorsUpWithPruning$3(AnalysisHelper.scala:141)\n\tat org.apache.spark.sql.catalyst.trees.CurrentOrigin$.withOrigin(origin.scala:76)\n\tat org.apache.spark.sql.catalyst.plans.logical.AnalysisHelper.$anonfun$resolveOperatorsUpWithPruning$1(AnalysisHelper.scala:141)\n\tat org.apache.spark.sql.catalyst.plans.logical.AnalysisHelper$.allowInvokingTransformsInAnalyzer(AnalysisHelper.scala:372)\n\tat org.apache.spark.sql.catalyst.plans.logical.AnalysisHelper.resolveOperatorsUpWithPruning(AnalysisHelper.scala:137)\n\tat org.apache.spark.sql.catalyst.plans.logical.AnalysisHelper.resolveOperatorsUpWithPruning$(AnalysisHelper.scala:133)\n\tat org.apache.spark.sql.catalyst.plans.logical.LogicalPlan.resolveOperatorsUpWithPruning(LogicalPlan.scala:39)\n\tat org.apache.spark.sql.catalyst.plans.logical.AnalysisHelper.$anonfun$resolveOperatorsUpWithPruning$2(AnalysisHelper.scala:138)\n\tat org.apache.spark.sql.catalyst.trees.UnaryLike.mapChildren(TreeNode.scala:1274)\n\tat org.apache.spark.sql.catalyst.trees.UnaryLike.mapChildren$(TreeNode.scala:1273)\n\tat org.apache.spark.sql.catalyst.plans.logical.SubqueryAlias.mapChildren(basicLogicalOperators.scala:1924)\n\tat org.apache.spark.sql.catalyst.plans.logical.AnalysisHelper.$anonfun$resolveOperatorsUpWithPruning$1(AnalysisHelper.scala:138)\n\tat org.apache.spark.sql.catalyst.plans.logical.AnalysisHelper$.allowInvokingTransformsInAnalyzer(AnalysisHelper.scala:372)\n\tat org.apache.spark.sql.catalyst.plans.logical.AnalysisHelper.resolveOperatorsUpWithPruning(AnalysisHelper.scala:137)\n\tat org.apache.spark.sql.catalyst.plans.logical.AnalysisHelper.resolveOperatorsUpWithPruning$(AnalysisHelper.scala:133)\n\tat org.apache.spark.sql.catalyst.plans.logical.LogicalPlan.resolveOperatorsUpWithPruning(LogicalPlan.scala:39)\n\tat org.apache.spark.sql.catalyst.plans.logical.AnalysisHelper.$anonfun$resolveOperatorsUpWithPruning$2(AnalysisHelper.scala:138)\n\tat org.apache.spark.sql.catalyst.trees.BinaryLike.mapChildren(TreeNode.scala:1301)\n\tat org.apache.spark.sql.catalyst.trees.BinaryLike.mapChildren$(TreeNode.scala:1300)\n\tat org.apache.spark.sql.catalyst.plans.logical.Join.mapChildren(basicLogicalOperators.scala:580)\n\tat org.apache.spark.sql.catalyst.plans.logical.AnalysisHelper.$anonfun$resolveOperatorsUpWithPruning$1(AnalysisHelper.scala:138)\n\tat org.apache.spark.sql.catalyst.plans.logical.AnalysisHelper$.allowInvokingTransformsInAnalyzer(AnalysisHelper.scala:372)\n\tat org.apache.spark.sql.catalyst.plans.logical.AnalysisHelper.resolveOperatorsUpWithPruning(AnalysisHelper.scala:137)\n\tat org.apache.spark.sql.catalyst.plans.logical.AnalysisHelper.resolveOperatorsUpWithPruning$(AnalysisHelper.scala:133)\n\tat org.apache.spark.sql.catalyst.plans.logical.LogicalPlan.resolveOperatorsUpWithPruning(LogicalPlan.scala:39)\n\tat org.apache.spark.sql.catalyst.plans.logical.AnalysisHelper.$anonfun$resolveOperatorsUpWithPruning$2(AnalysisHelper.scala:138)\n\tat org.apache.spark.sql.catalyst.trees.UnaryLike.mapChildren(TreeNode.scala:1274)\n\tat org.apache.spark.sql.catalyst.trees.UnaryLike.mapChildren$(TreeNode.scala:1273)\n\tat org.apache.spark.sql.catalyst.plans.logical.Project.mapChildren(basicLogicalOperators.scala:84)\n\tat org.apache.spark.sql.catalyst.plans.logical.AnalysisHelper.$anonfun$resolveOperatorsUpWithPruning$1(AnalysisHelper.scala:138)\n\tat org.apache.spark.sql.catalyst.plans.logical.AnalysisHelper$.allowInvokingTransformsInAnalyzer(AnalysisHelper.scala:372)\n\tat org.apache.spark.sql.catalyst.plans.logical.AnalysisHelper.resolveOperatorsUpWithPruning(AnalysisHelper.scala:137)\n\tat org.apache.spark.sql.catalyst.plans.logical.AnalysisHelper.resolveOperatorsUpWithPruning$(AnalysisHelper.scala:133)\n\tat org.apache.spark.sql.catalyst.plans.logical.LogicalPlan.resolveOperatorsUpWithPruning(LogicalPlan.scala:39)\n\tat org.apache.spark.sql.catalyst.plans.logical.AnalysisHelper.$anonfun$resolveOperatorsUpWithPruning$2(AnalysisHelper.scala:138)\n\tat org.apache.spark.sql.catalyst.trees.UnaryLike.mapChildren(TreeNode.scala:1274)\n\tat org.apache.spark.sql.catalyst.trees.UnaryLike.mapChildren$(TreeNode.scala:1273)\n\tat org.apache.spark.sql.catalyst.plans.logical.Sort.mapChildren(basicLogicalOperators.scala:1078)\n\tat org.apache.spark.sql.catalyst.plans.logical.AnalysisHelper.$anonfun$resolveOperatorsUpWithPruning$1(AnalysisHelper.scala:138)\n\tat org.apache.spark.sql.catalyst.plans.logical.AnalysisHelper$.allowInvokingTransformsInAnalyzer(AnalysisHelper.scala:372)\n\tat org.apache.spark.sql.catalyst.plans.logical.AnalysisHelper.resolveOperatorsUpWithPruning(AnalysisHelper.scala:137)\n\tat org.apache.spark.sql.catalyst.plans.logical.AnalysisHelper.resolveOperatorsUpWithPruning$(AnalysisHelper.scala:133)\n\tat org.apache.spark.sql.catalyst.plans.logical.LogicalPlan.resolveOperatorsUpWithPruning(LogicalPlan.scala:39)\n\tat org.apache.spark.sql.catalyst.plans.logical.AnalysisHelper.resolveOperatorsUpWithSubqueriesAndPruningByConf(AnalysisHelper.scala:175)\n\tat org.apache.spark.sql.catalyst.plans.logical.AnalysisHelper.resolveOperatorsUpWithSubqueriesAndPruningByConf$(AnalysisHelper.scala:169)\n\tat org.apache.spark.sql.catalyst.plans.logical.LogicalPlan.resolveOperatorsUpWithSubqueriesAndPruningByConf(LogicalPlan.scala:39)\n\tat org.apache.spark.sql.catalyst.analysis.Analyzer$ResolveRelations$.apply0(Analyzer.scala:1391)\n\tat org.apache.spark.sql.catalyst.analysis.Analyzer$ResolveRelations$.apply(Analyzer.scala:1361)\n\tat org.apache.spark.sql.catalyst.analysis.Analyzer$ResolveRelations$.apply(Analyzer.scala:1287)\n\tat org.apache.spark.sql.catalyst.rules.RuleExecutor.$anonfun$execute$4(RuleExecutor.scala:308)\n\tat com.databricks.spark.util.FrameProfiler$.record(FrameProfiler.scala:94)\n\tat org.apache.spark.sql.catalyst.rules.RuleExecutor.$anonfun$execute$3(RuleExecutor.scala:308)\n\tat scala.collection.LinearSeqOptimized.foldLeft(LinearSeqOptimized.scala:126)\n\tat scala.collection.LinearSeqOptimized.foldLeft$(LinearSeqOptimized.scala:122)\n\tat scala.collection.immutable.List.foldLeft(List.scala:91)\n\tat org.apache.spark.sql.catalyst.rules.RuleExecutor.$anonfun$execute$2(RuleExecutor.scala:305)\n\tat scala.runtime.java8.JFunction0$mcV$sp.apply(JFunction0$mcV$sp.java:23)\n\tat com.databricks.spark.util.FrameProfiler$.record(FrameProfiler.scala:94)\n\tat org.apache.spark.sql.catalyst.rules.RuleExecutor.executeBatch$1(RuleExecutor.scala:288)\n\tat org.apache.spark.sql.catalyst.rules.RuleExecutor.$anonfun$execute$8(RuleExecutor.scala:375)\n\tat org.apache.spark.sql.catalyst.rules.RuleExecutor.$anonfun$execute$8$adapted(RuleExecutor.scala:375)\n\tat scala.collection.immutable.List.foreach(List.scala:431)\n\tat org.apache.spark.sql.catalyst.rules.RuleExecutor.$anonfun$execute$1(RuleExecutor.scala:375)\n\tat com.databricks.spark.util.FrameProfiler$.record(FrameProfiler.scala:94)\n\tat org.apache.spark.sql.catalyst.rules.RuleExecutor.execute(RuleExecutor.scala:255)\n\tat org.apache.spark.sql.catalyst.analysis.Analyzer.executeSameContext(Analyzer.scala:410)\n\tat org.apache.spark.sql.catalyst.analysis.Analyzer.$anonfun$execute$1(Analyzer.scala:403)\n\tat org.apache.spark.sql.catalyst.analysis.AnalysisContext$.withNewAnalysisContext(Analyzer.scala:308)\n\tat org.apache.spark.sql.catalyst.analysis.Analyzer.execute(Analyzer.scala:403)\n\tat org.apache.spark.sql.catalyst.analysis.Analyzer.execute(Analyzer.scala:327)\n\tat org.apache.spark.sql.catalyst.rules.RuleExecutor.$anonfun$executeAndTrack$1(RuleExecutor.scala:247)\n\tat org.apache.spark.sql.catalyst.QueryPlanningTracker$.withTracker(QueryPlanningTracker.scala:166)\n\tat org.apache.spark.sql.catalyst.rules.RuleExecutor.executeAndTrack(RuleExecutor.scala:247)\n\tat org.apache.spark.sql.catalyst.analysis.Analyzer.$anonfun$executeAndCheck$1(Analyzer.scala:379)\n\tat org.apache.spark.sql.catalyst.plans.logical.AnalysisHelper$.markInAnalyzer(AnalysisHelper.scala:379)\n\tat org.apache.spark.sql.catalyst.analysis.Analyzer.executeAndCheck(Analyzer.scala:378)\n\tat org.apache.spark.sql.execution.QueryExecution.$anonfun$analyzed$1(QueryExecution.scala:194)\n\tat com.databricks.spark.util.FrameProfiler$.record(FrameProfiler.scala:94)\n\tat org.apache.spark.sql.catalyst.QueryPlanningTracker.measurePhase(QueryPlanningTracker.scala:400)\n\tat org.apache.spark.sql.execution.QueryExecution.$anonfun$executePhase$4(QueryExecution.scala:502)\n\tat org.apache.spark.sql.execution.QueryExecution$.withInternalError(QueryExecution.scala:1008)\n\tat org.apache.spark.sql.execution.QueryExecution.$anonfun$executePhase$2(QueryExecution.scala:502)\n\tat com.databricks.util.LexicalThreadLocal$Handle.runWith(LexicalThreadLocal.scala:63)\n\tat org.apache.spark.sql.execution.QueryExecution.$anonfun$executePhase$1(QueryExecution.scala:498)\n\tat org.apache.spark.sql.SparkSession.withActive(SparkSession.scala:1127)\n\tat org.apache.spark.sql.execution.QueryExecution.executePhase(QueryExecution.scala:498)\n\tat org.apache.spark.sql.execution.QueryExecution.analyzed$lzycompute(QueryExecution.scala:188)\n\tat org.apache.spark.sql.execution.QueryExecution.analyzed(QueryExecution.scala:187)\n\tat org.apache.spark.sql.execution.QueryExecution.assertAnalyzed(QueryExecution.scala:169)\n\tat org.apache.spark.sql.Dataset$.$anonfun$ofRows$2(Dataset.scala:115)\n\tat org.apache.spark.sql.SparkSession.withActive(SparkSession.scala:1127)\n\tat org.apache.spark.sql.SparkSession.$anonfun$withActiveAndFrameProfiler$1(SparkSession.scala:1134)\n\tat com.databricks.spark.util.FrameProfiler$.record(FrameProfiler.scala:94)\n\tat org.apache.spark.sql.SparkSession.withActiveAndFrameProfiler(SparkSession.scala:1134)\n\tat org.apache.spark.sql.Dataset$.ofRows(Dataset.scala:113)\n\tat org.apache.spark.sql.SparkSession.$anonfun$sql$5(SparkSession.scala:907)\n\tat org.apache.spark.sql.SparkSession.withActive(SparkSession.scala:1127)\n\tat org.apache.spark.sql.SparkSession.sql(SparkSession.scala:896)\n\tat org.apache.spark.sql.SparkSession.sql(SparkSession.scala:930)\n\tat org.apache.spark.sql.SparkSession.sql(SparkSession.scala:963)\n\tat org.apache.spark.sql.SQLContext.sql(SQLContext.scala:695)\n\tat com.databricks.backend.daemon.driver.DriverLocal$DbClassicStrategy.executeSQLQuery(DriverLocal.scala:240)\n\tat com.databricks.backend.daemon.driver.DriverLocal.executeSQLSubCommand(DriverLocal.scala:324)\n\tat com.databricks.backend.daemon.driver.DriverLocal.$anonfun$executeSql$1(DriverLocal.scala:343)\n\tat scala.collection.immutable.List.map(List.scala:293)\n\tat com.databricks.backend.daemon.driver.DriverLocal.executeSql(DriverLocal.scala:338)\n\tat com.databricks.backend.daemon.driver.JupyterDriverLocal.repl(JupyterDriverLocal.scala:763)\n\tat com.databricks.backend.daemon.driver.DriverLocal.$anonfun$execute$34(DriverLocal.scala:1023)\n\tat com.databricks.unity.EmptyHandle$.runWith(UCSHandle.scala:124)\n\tat com.databricks.backend.daemon.driver.DriverLocal.$anonfun$execute$22(DriverLocal.scala:1006)\n\tat com.databricks.logging.UsageLogging.$anonfun$withAttributionContext$1(UsageLogging.scala:426)\n\tat scala.util.DynamicVariable.withValue(DynamicVariable.scala:62)\n\tat com.databricks.logging.AttributionContext$.withValue(AttributionContext.scala:216)\n\tat com.databricks.logging.UsageLogging.withAttributionContext(UsageLogging.scala:424)\n\tat com.databricks.logging.UsageLogging.withAttributionContext$(UsageLogging.scala:418)\n\tat com.databricks.backend.daemon.driver.DriverLocal.withAttributionContext(DriverLocal.scala:71)\n\tat com.databricks.logging.UsageLogging.withAttributionTags(UsageLogging.scala:472)\n\tat com.databricks.logging.UsageLogging.withAttributionTags$(UsageLogging.scala:455)\n\tat com.databricks.backend.daemon.driver.DriverLocal.withAttributionTags(DriverLocal.scala:71)\n\tat com.databricks.backend.daemon.driver.DriverLocal.execute(DriverLocal.scala:948)\n\tat com.databricks.backend.daemon.driver.DriverWrapper.$anonfun$tryExecutingCommand$1(DriverWrapper.scala:862)\n\tat scala.util.Try$.apply(Try.scala:213)\n\tat com.databricks.backend.daemon.driver.DriverWrapper.tryExecutingCommand(DriverWrapper.scala:854)\n\tat com.databricks.backend.daemon.driver.DriverWrapper.executeCommandAndGetError(DriverWrapper.scala:651)\n\tat com.databricks.backend.daemon.driver.DriverWrapper.executeCommand(DriverWrapper.scala:808)\n\tat com.databricks.backend.daemon.driver.DriverWrapper.runInnerLoop(DriverWrapper.scala:528)\n\tat com.databricks.backend.daemon.driver.DriverWrapper.runInner(DriverWrapper.scala:444)\n\tat com.databricks.backend.daemon.driver.DriverWrapper.run(DriverWrapper.scala:287)\n\tat java.lang.Thread.run(Thread.java:750)\n\n\tat com.databricks.backend.daemon.driver.DriverLocal.executeSql(DriverLocal.scala:381)\n\tat com.databricks.backend.daemon.driver.JupyterDriverLocal.repl(JupyterDriverLocal.scala:763)\n\tat com.databricks.backend.daemon.driver.DriverLocal.$anonfun$execute$34(DriverLocal.scala:1023)\n\tat com.databricks.unity.EmptyHandle$.runWith(UCSHandle.scala:124)\n\tat com.databricks.backend.daemon.driver.DriverLocal.$anonfun$execute$22(DriverLocal.scala:1006)\n\tat com.databricks.logging.UsageLogging.$anonfun$withAttributionContext$1(UsageLogging.scala:426)\n\tat scala.util.DynamicVariable.withValue(DynamicVariable.scala:62)\n\tat com.databricks.logging.AttributionContext$.withValue(AttributionContext.scala:216)\n\tat com.databricks.logging.UsageLogging.withAttributionContext(UsageLogging.scala:424)\n\tat com.databricks.logging.UsageLogging.withAttributionContext$(UsageLogging.scala:418)\n\tat com.databricks.backend.daemon.driver.DriverLocal.withAttributionContext(DriverLocal.scala:71)\n\tat com.databricks.logging.UsageLogging.withAttributionTags(UsageLogging.scala:472)\n\tat com.databricks.logging.UsageLogging.withAttributionTags$(UsageLogging.scala:455)\n\tat com.databricks.backend.daemon.driver.DriverLocal.withAttributionTags(DriverLocal.scala:71)\n\tat com.databricks.backend.daemon.driver.DriverLocal.execute(DriverLocal.scala:948)\n\tat com.databricks.backend.daemon.driver.DriverWrapper.$anonfun$tryExecutingCommand$1(DriverWrapper.scala:862)\n\tat scala.util.Try$.apply(Try.scala:213)\n\tat com.databricks.backend.daemon.driver.DriverWrapper.tryExecutingCommand(DriverWrapper.scala:854)\n\tat com.databricks.backend.daemon.driver.DriverWrapper.executeCommandAndGetError(DriverWrapper.scala:651)\n\tat com.databricks.backend.daemon.driver.DriverWrapper.executeCommand(DriverWrapper.scala:808)\n\tat com.databricks.backend.daemon.driver.DriverWrapper.runInnerLoop(DriverWrapper.scala:528)\n\tat com.databricks.backend.daemon.driver.DriverWrapper.runInner(DriverWrapper.scala:444)\n\tat com.databricks.backend.daemon.driver.DriverWrapper.run(DriverWrapper.scala:287)\n\tat java.lang.Thread.run(Thread.java:750)\n",
       "errorSummary": "AnalysisException: [UC_NOT_ENABLED] Unity Catalog is not enabled on this cluster.",
       "errorTraceType": "html",
       "metadata": {},
       "type": "ipynbError"
      }
     },
     "output_type": "display_data"
    }
   ],
   "source": [
    "%sql\n",
    "/* \n",
    "-- Error: UC_NOT_ENABLED\n",
    "select\n",
    "    h.made_current_at,\n",
    "    s.operation,\n",
    "    h.snapshot_id,\n",
    "    h.is_current_ancestor,\n",
    "    s.summary['spark.app.id']\n",
    "from dbt_glue_db.nyc_taxi_iceberg_data_manipulation.history h\n",
    "join dbt_glue_db.nyc_taxi_iceberg_data_manipulation.snapshots s\n",
    "  on h.snapshot_id = s.snapshot_id\n",
    "order by made_current_at\n",
    "*/"
   ]
  },
  {
   "cell_type": "code",
   "execution_count": 0,
   "metadata": {
    "application/vnd.databricks.v1+cell": {
     "cellMetadata": {
      "byteLimit": 2048000,
      "rowLimit": 10000
     },
     "inputWidgets": {},
     "nuid": "40892a3d-58c1-46c4-98b1-35c9e1bd9337",
     "showTitle": false,
     "title": ""
    }
   },
   "outputs": [
    {
     "output_type": "stream",
     "name": "stdout",
     "output_type": "stream",
     "text": [
      "root\n |-- vendorid: long (nullable = true)\n |-- pickup_day: integer (nullable = true)\n |-- tpep_pickup_datetime: timestamp (nullable = true)\n |-- tpep_dropoff_datetime: timestamp (nullable = true)\n |-- passenger_count: double (nullable = true)\n |-- trip_distance: double (nullable = true)\n |-- ratecodeid: double (nullable = true)\n |-- store_and_fwd_flag: string (nullable = true)\n |-- pulocationid: long (nullable = true)\n |-- dolocationid: long (nullable = true)\n |-- payment_type: long (nullable = true)\n |-- fare_amount: double (nullable = true)\n |-- extra: double (nullable = true)\n |-- mta_tax: double (nullable = true)\n |-- tip_amount: double (nullable = true)\n |-- tolls_amount: double (nullable = true)\n |-- improvement_surcharge: double (nullable = true)\n |-- total_amount: double (nullable = true)\n |-- congestion_surcharge: double (nullable = true)\n |-- airport_fee: double (nullable = true)\n\n"
     ]
    }
   ],
   "source": [
    "modified_iceberg_table_s3_path = 's3://rvo-prevention-coaching-app-stage-us-east-1/testing/dbt-glue-iceberg/nyc_taxi_iceberg_data_manipulation/'\n",
    "\n",
    "#\n",
    "# Looks like the table is NOT Iceberg, but just Delta\n",
    "#\n",
    "\n",
    "# iceberg_df = spark.read.format(\"iceberg\").load(modified_iceberg_table_s3_path)\n",
    "iceberg_df = spark.read.format(\"delta\").load(modified_iceberg_table_s3_path)\n",
    "\n",
    "iceberg_df.printSchema()\n",
    "\n"
   ]
  }
 ],
 "metadata": {
  "application/vnd.databricks.v1+notebook": {
   "dashboards": [],
   "language": "python",
   "notebookMetadata": {
    "mostRecentlyExecutedCommandWithImplicitDF": {
     "commandId": 1612535869518926,
     "dataframes": [
      "_sqldf"
     ]
    },
    "pythonIndentUnit": 4
   },
   "notebookName": "Databricks managed Iceberg tables",
   "widgets": {}
  }
 },
 "nbformat": 4,
 "nbformat_minor": 0
}
